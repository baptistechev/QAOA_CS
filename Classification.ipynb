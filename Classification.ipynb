{
 "cells": [
  {
   "cell_type": "code",
   "execution_count": 1,
   "metadata": {},
   "outputs": [],
   "source": [
    "import matplotlib.pyplot as plt\n",
    "import numpy as np\n",
    "import math\n",
    "from sklearn import neighbors\n",
    "from sklearn.model_selection import train_test_split\n",
    "from sklearn.metrics import confusion_matrix, accuracy_score\n",
    "from qiskit import QuantumCircuit, ClassicalRegister, QuantumRegister\n",
    "from qiskit import Aer, execute\n",
    "from qiskit.circuit import Parameter"
   ]
  },
  {
   "attachments": {},
   "cell_type": "markdown",
   "metadata": {},
   "source": [
    "DATA"
   ]
  },
  {
   "cell_type": "code",
   "execution_count": 2,
   "metadata": {},
   "outputs": [
    {
     "data": {
      "image/png": "[encoded data removed]",
      "text/plain": [
       "<Figure size 432x288 with 1 Axes>"
      ]
     },
     "metadata": {
      "needs_background": "light"
     },
     "output_type": "display_data"
    }
   ],
   "source": [
    "muA = [500, 3000]\n",
    "muB = [2000, 3000]\n",
    "SigmaA = [[40000,0], [0,600000]]\n",
    "SigmaB = [[40000,0], [0,600000]]\n",
    "n = 300 # sample size\n",
    "np.random.seed(100)\n",
    "xA, zA = np.random.multivariate_normal(muA, SigmaA, n).T\n",
    "# Avoid negatives\n",
    "xA = list(np.multiply(xA>0,xA))\n",
    "zA = list(np.multiply(zA>0,zA))\n",
    "#\n",
    "xB, zB = np.random.multivariate_normal(muB, SigmaB, n).T\n",
    "# Avoid negatives\n",
    "xB = list(np.multiply(xB>0,xB))\n",
    "zB = list(np.multiply(zB>0,zB))\n",
    "plt.plot(xA, zA, 'x')\n",
    "plt.plot(xB, zB, 'o')\n",
    "balanceMAX = 2700\n",
    "incomeMAX = 6200\n",
    "plt.axis([-1, balanceMAX, -1, incomeMAX])\n",
    "plt.show()"
   ]
  },
  {
   "cell_type": "code",
   "execution_count": 3,
   "metadata": {},
   "outputs": [
    {
     "data": {
      "text/html": [
       "<div>\n",
       "<style scoped>\n",
       "    .dataframe tbody tr th:only-of-type {\n",
       "        vertical-align: middle;\n",
       "    }\n",
       "\n",
       "    .dataframe tbody tr th {\n",
       "        vertical-align: top;\n",
       "    }\n",
       "\n",
       "    .dataframe thead th {\n",
       "        text-align: right;\n",
       "    }\n",
       "</style>\n",
       "<table border=\"1\" class=\"dataframe\">\n",
       "  <thead>\n",
       "    <tr style=\"text-align: right;\">\n",
       "      <th></th>\n",
       "      <th>feature1</th>\n",
       "      <th>feature2</th>\n",
       "      <th>class</th>\n",
       "    </tr>\n",
       "  </thead>\n",
       "  <tbody>\n",
       "    <tr>\n",
       "      <th>0</th>\n",
       "      <td>568.536081</td>\n",
       "      <td>1644.637493</td>\n",
       "      <td>0</td>\n",
       "    </tr>\n",
       "    <tr>\n",
       "      <th>1</th>\n",
       "      <td>449.512793</td>\n",
       "      <td>3893.137692</td>\n",
       "      <td>0</td>\n",
       "    </tr>\n",
       "    <tr>\n",
       "      <th>2</th>\n",
       "      <td>602.843768</td>\n",
       "      <td>3760.127813</td>\n",
       "      <td>0</td>\n",
       "    </tr>\n",
       "    <tr>\n",
       "      <th>3</th>\n",
       "      <td>285.991334</td>\n",
       "      <td>3171.325035</td>\n",
       "      <td>0</td>\n",
       "    </tr>\n",
       "    <tr>\n",
       "      <th>4</th>\n",
       "      <td>551.000289</td>\n",
       "      <td>2853.217161</td>\n",
       "      <td>0</td>\n",
       "    </tr>\n",
       "    <tr>\n",
       "      <th>...</th>\n",
       "      <td>...</td>\n",
       "      <td>...</td>\n",
       "      <td>...</td>\n",
       "    </tr>\n",
       "    <tr>\n",
       "      <th>595</th>\n",
       "      <td>1928.299113</td>\n",
       "      <td>2487.301222</td>\n",
       "      <td>1</td>\n",
       "    </tr>\n",
       "    <tr>\n",
       "      <th>596</th>\n",
       "      <td>2019.572760</td>\n",
       "      <td>2944.871684</td>\n",
       "      <td>1</td>\n",
       "    </tr>\n",
       "    <tr>\n",
       "      <th>597</th>\n",
       "      <td>2143.222183</td>\n",
       "      <td>4371.553737</td>\n",
       "      <td>1</td>\n",
       "    </tr>\n",
       "    <tr>\n",
       "      <th>598</th>\n",
       "      <td>2333.635888</td>\n",
       "      <td>2804.774766</td>\n",
       "      <td>1</td>\n",
       "    </tr>\n",
       "    <tr>\n",
       "      <th>599</th>\n",
       "      <td>2233.036356</td>\n",
       "      <td>2354.387894</td>\n",
       "      <td>1</td>\n",
       "    </tr>\n",
       "  </tbody>\n",
       "</table>\n",
       "<p>600 rows × 3 columns</p>\n",
       "</div>"
      ],
      "text/plain": [
       "        feature1     feature2  class\n",
       "0     568.536081  1644.637493      0\n",
       "1     449.512793  3893.137692      0\n",
       "2     602.843768  3760.127813      0\n",
       "3     285.991334  3171.325035      0\n",
       "4     551.000289  2853.217161      0\n",
       "..           ...          ...    ...\n",
       "595  1928.299113  2487.301222      1\n",
       "596  2019.572760  2944.871684      1\n",
       "597  2143.222183  4371.553737      1\n",
       "598  2333.635888  2804.774766      1\n",
       "599  2233.036356  2354.387894      1\n",
       "\n",
       "[600 rows x 3 columns]"
      ]
     },
     "execution_count": 3,
     "metadata": {},
     "output_type": "execute_result"
    }
   ],
   "source": [
    "x = xA+xB\n",
    "z = zA+zB\n",
    "c = [0]*len(xA) + [1]*len(xB)\n",
    "import pandas as pd\n",
    "data1 = {'feature1': x, 'feature2': z, 'class': c}\n",
    "df = pd.DataFrame(data=data1)\n",
    "df"
   ]
  },
  {
   "cell_type": "code",
   "execution_count": 4,
   "metadata": {},
   "outputs": [],
   "source": [
    "datas = df.to_numpy()\n",
    "datas_train, datas_test = train_test_split(datas,test_size=int(len(datas)*0.2),train_size=int(len(datas)*0.8),shuffle=True)\n",
    "\n",
    "X_train = datas_train[:,:2]\n",
    "Y_train = datas_train[:,2]\n",
    "\n",
    "X_test = datas_test[:,:2]\n",
    "Y_test = datas_test[:,2]"
   ]
  },
  {
   "attachments": {},
   "cell_type": "markdown",
   "metadata": {},
   "source": [
    "CLASSICAL"
   ]
  },
  {
   "cell_type": "code",
   "execution_count": 5,
   "metadata": {},
   "outputs": [
    {
     "name": "stdout",
     "output_type": "stream",
     "text": [
      "[[57  0]\n",
      " [ 0 63]]\n",
      "1.0\n"
     ]
    }
   ],
   "source": [
    "model = neighbors.KNeighborsClassifier(n_neighbors=5)\n",
    "model.fit(X_train,Y_train)\n",
    "Y_pred = model.predict(X_test)\n",
    "print(confusion_matrix(Y_test,Y_pred))\n",
    "print(accuracy_score(Y_test,Y_pred))"
   ]
  },
  {
   "attachments": {},
   "cell_type": "markdown",
   "metadata": {},
   "source": [
    "QUANTUM"
   ]
  },
  {
   "cell_type": "code",
   "execution_count": 6,
   "metadata": {},
   "outputs": [],
   "source": [
    "def compute_expectation(counts,Y_train):\n",
    "\n",
    "    cost = 0\n",
    "        \n",
    "    for c,y in zip(counts,Y_train):\n",
    "        if str(int(y)) in c.keys():\n",
    "            cost += 1 - (c[str(int(y))]/1024)**2\n",
    "        else:\n",
    "            cost+=1\n",
    "\n",
    "    print(cost)\n",
    "    \n",
    "    return cost\n",
    "\n",
    "def create_qaoa_circ(theta,x):\n",
    "\n",
    "    l = len(theta)//2\n",
    "\n",
    "    qc = QuantumCircuit(1)\n",
    "    \n",
    "    for irep in range(l):\n",
    "        qc.u(x[0]*theta[irep],x[1]*theta[irep+1],0,0)\n",
    "            \n",
    "    qc.measure_all()\n",
    "\n",
    "    # print(qc.decompose().draw()) \n",
    "        \n",
    "    return qc\n",
    "\n",
    "# Finally we write a function that executes the circuit on the chosen backend\n",
    "def get_expectation(shots=512):\n",
    "    \n",
    "    backend = Aer.get_backend('qasm_simulator')\n",
    "    backend.shots = shots\n",
    "    \n",
    "    def execute_circ(theta):\n",
    "        \n",
    "        counts = []\n",
    "        for x in X_train:\n",
    "            qc = create_qaoa_circ(theta,x)\n",
    "            counts.append(backend.run(qc, seed_simulator=10, \n",
    "                                nshots=shots).result().get_counts())\n",
    "        return compute_expectation(counts,Y_train)\n",
    "    \n",
    "    return execute_circ"
   ]
  },
  {
   "cell_type": "code",
   "execution_count": 7,
   "metadata": {},
   "outputs": [
    {
     "name": "stdout",
     "output_type": "stream",
     "text": [
      "308.73376083374023\n",
      "316.76592445373535\n",
      "308.73376083374023\n",
      "237.0\n",
      "308.73376083374023\n",
      "310.42388343811035\n",
      "237.0\n",
      "310.42388343811035\n",
      "300.25544261932373\n",
      "287.68852615356445\n",
      "304.59635162353516\n",
      "237.0\n",
      "304.59635162353516\n",
      "306.4898738861084\n",
      "299.60202980041504\n",
      "297.5314073562622\n",
      "237.0\n",
      "297.5314073562622\n",
      "348.165584564209\n",
      "163.36269569396973\n",
      "348.165584564209\n",
      "163.36269569396973\n",
      "348.165584564209\n",
      "385.02788734436035\n",
      "77.98571109771729\n",
      "150.69174766540527\n",
      "77.98571109771729\n",
      "150.69174766540527\n",
      "99.39879417419434\n",
      "81.88073825836182\n",
      "77.98571109771729\n",
      "81.9176607131958\n"
     ]
    },
    {
     "data": {
      "text/plain": [
       "     fun: 81.9176607131958\n",
       "   maxcv: 0.0\n",
       " message: 'Optimization terminated successfully.'\n",
       "    nfev: 32\n",
       "  status: 1\n",
       " success: True\n",
       "       x: array([-0.00136484,  1.        ])"
      ]
     },
     "execution_count": 7,
     "metadata": {},
     "output_type": "execute_result"
    }
   ],
   "source": [
    "from scipy.optimize import minimize\n",
    "\n",
    "expectation = get_expectation()\n",
    "\n",
    "res = minimize(expectation, \n",
    "                      np.ones(1 * 2), \n",
    "                      method='COBYLA')\n",
    "res"
   ]
  },
  {
   "cell_type": "code",
   "execution_count": 8,
   "metadata": {},
   "outputs": [
    {
     "name": "stdout",
     "output_type": "stream",
     "text": [
      "1.0\n"
     ]
    },
    {
     "data": {
      "text/plain": [
       "array([[57,  0],\n",
       "       [ 0, 63]])"
      ]
     },
     "execution_count": 8,
     "metadata": {},
     "output_type": "execute_result"
    }
   ],
   "source": [
    "from qiskit.visualization import plot_histogram\n",
    "\n",
    "backend = Aer.get_backend('aer_simulator')\n",
    "backend.shots = 512\n",
    "\n",
    "Y_pred = []\n",
    "for x in X_test:\n",
    "    qc_res = create_qaoa_circ(res.x,x)\n",
    "\n",
    "    counts = backend.run(qc_res, seed_simulator=10).result().get_counts()\n",
    "    z = list(counts.keys())[np.argmax(list(counts.values()))]\n",
    "    Y_pred.append(int(z))\n",
    "\n",
    "print(accuracy_score(Y_pred,Y_test))\n",
    "confusion_matrix(Y_pred,Y_test)"
   ]
  },
  {
   "cell_type": "code",
   "execution_count": 83,
   "metadata": {},
   "outputs": [
    {
     "data": {
      "text/html": [
       "<pre style=\"word-wrap: normal;white-space: pre;background: #fff0;line-height: 1.1;font-family: &quot;Courier New&quot;,Courier,monospace\">     ┌─────────┐                             ┌───────────┐»\n",
       "q_0: ┤ U2(0,π) ├──────────────■──────────────┤ U3(π,0,π) ├»\n",
       "     └─────────┘┌─────────────┴─────────────┐└───────────┘»\n",
       "q_1: ───────────┤ U(1988.36677656949,0,0,0) ├─────────────»\n",
       "                └───────────────────────────┘             »\n",
       "c: 2/═════════════════════════════════════════════════════»\n",
       "                                                          »\n",
       "«                                  \n",
       "«q_0: ──────────────■──────────────\n",
       "«     ┌─────────────┴─────────────┐\n",
       "«q_1: ┤ U(0,2915.51167189415,0,0) ├\n",
       "«     └───────────────────────────┘\n",
       "«c: 2/═════════════════════════════\n",
       "«                                  </pre>"
      ],
      "text/plain": [
       "     ┌─────────┐                             ┌───────────┐»\n",
       "q_0: ┤ U2(0,π) ├──────────────■──────────────┤ U3(π,0,π) ├»\n",
       "     └─────────┘┌─────────────┴─────────────┐└───────────┘»\n",
       "q_1: ───────────┤ U(1988.36677656949,0,0,0) ├─────────────»\n",
       "                └───────────────────────────┘             »\n",
       "c: 2/═════════════════════════════════════════════════════»\n",
       "                                                          »\n",
       "«                                  \n",
       "«q_0: ──────────────■──────────────\n",
       "«     ┌─────────────┴─────────────┐\n",
       "«q_1: ┤ U(0,2915.51167189415,0,0) ├\n",
       "«     └───────────────────────────┘\n",
       "«c: 2/═════════════════════════════\n",
       "«                                  "
      ]
     },
     "execution_count": 83,
     "metadata": {},
     "output_type": "execute_result"
    }
   ],
   "source": [
    "from qiskit.circuit.library import UGate,HGate\n",
    "from qiskit.circuit import ParameterVector\n",
    "from qiskit.quantum_info import Statevector\n",
    "x = X_train[0]\n",
    "params = ParameterVector('P', 2)\n",
    "qc = QuantumCircuit(1)\n",
    "qc.u(x[0]*params[0],x[1]*params[1],0,0)\n",
    "\n",
    "qc2 = QuantumCircuit(2,2)\n",
    "qc2.h(0)\n",
    "qc_v = qc.bind_parameters([1,0])\n",
    "g = qc_v.to_gate().control(1)\n",
    "qc2.append(g,[0,1])\n",
    "qc2.x(0)\n",
    "qc_v = qc.bind_parameters([0,1])\n",
    "g = qc_v.to_gate().control(1)\n",
    "qc2.append(g,[0,1])\n",
    "qc2.decompose().draw()\n",
    "\n",
    "# Statevector.from_instruction(qc2).to_dict()"
   ]
  }
 ],
 "metadata": {
  "kernelspec": {
   "display_name": "Python 3",
   "language": "python",
   "name": "python3"
  },
  "language_info": {
   "codemirror_mode": {
    "name": "ipython",
    "version": 3
   },
   "file_extension": ".py",
   "mimetype": "text/x-python",
   "name": "python",
   "nbconvert_exporter": "python",
   "pygments_lexer": "ipython3",
   "version": "3.10.6"
  },
  "orig_nbformat": 4
 },
 "nbformat": 4,
 "nbformat_minor": 2
}
