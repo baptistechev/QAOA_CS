{
 "cells": [
  {
   "cell_type": "code",
   "execution_count": 75,
   "metadata": {},
   "outputs": [],
   "source": [
    "import matplotlib.pyplot as plt\n",
    "from qiskit import QuantumCircuit, ClassicalRegister, QuantumRegister\n",
    "from qiskit import Aer, execute\n",
    "from qiskit.circuit import Parameter\n",
    "import numpy as np"
   ]
  },
  {
   "cell_type": "code",
   "execution_count": 18,
   "metadata": {},
   "outputs": [
    {
     "data": {
      "text/html": [
       "<pre style=\"word-wrap: normal;white-space: pre;background: #fff0;line-height: 1.1;font-family: &quot;Courier New&quot;,Courier,monospace\">global phase: -1.0*$\\gamma$\n",
       "     ┌─────────┐┌────────────────┐┌────────────────┐                       »\n",
       "q_0: ┤ U2(0,π) ├┤ R(2*$\\beta$,0) ├┤ U1(2*$\\gamma$) ├──■────────────────────»\n",
       "     ├─────────┤├────────────────┤└────────────────┘┌─┴─┐┌────────────────┐»\n",
       "q_1: ┤ U2(0,π) ├┤ R(2*$\\beta$,0) ├──────────────────┤ X ├┤ Rz(2*$\\gamma$) ├»\n",
       "     └─────────┘└────────────────┘                  └───┘└────────────────┘»\n",
       "«          \n",
       "«q_0: ──■──\n",
       "«     ┌─┴─┐\n",
       "«q_1: ┤ X ├\n",
       "«     └───┘</pre>"
      ],
      "text/plain": [
       "global phase: -1.0*$\\gamma$\n",
       "     ┌─────────┐┌────────────────┐┌────────────────┐                       »\n",
       "q_0: ┤ U2(0,π) ├┤ R(2*$\\beta$,0) ├┤ U1(2*$\\gamma$) ├──■────────────────────»\n",
       "     ├─────────┤├────────────────┤└────────────────┘┌─┴─┐┌────────────────┐»\n",
       "q_1: ┤ U2(0,π) ├┤ R(2*$\\beta$,0) ├──────────────────┤ X ├┤ Rz(2*$\\gamma$) ├»\n",
       "     └─────────┘└────────────────┘                  └───┘└────────────────┘»\n",
       "«          \n",
       "«q_0: ──■──\n",
       "«     ┌─┴─┐\n",
       "«q_1: ┤ X ├\n",
       "«     └───┘"
      ]
     },
     "execution_count": 18,
     "metadata": {},
     "output_type": "execute_result"
    }
   ],
   "source": [
    "nqubits = 2\n",
    "\n",
    "qc_0 = QuantumCircuit(nqubits)\n",
    "for i in range(0, nqubits):\n",
    "    qc_0.h(i)\n",
    "\n",
    "beta = Parameter(\"$\\\\beta$\")\n",
    "qc_mix = QuantumCircuit(nqubits)\n",
    "for i in range(0, nqubits):\n",
    "    qc_mix.rx(2 * beta, i)\n",
    "\n",
    "gamma = Parameter(\"$\\\\gamma$\")\n",
    "qc_p = QuantumCircuit(nqubits)\n",
    "qc_p.rz(2*gamma,0)\n",
    "qc_p.rzz(2*gamma,0,1)\n",
    "    \n",
    "qc_qaoa = QuantumCircuit(nqubits)\n",
    "\n",
    "qc_qaoa.append(qc_0, [i for i in range(0, nqubits)])\n",
    "qc_qaoa.append(qc_mix, [i for i in range(0, nqubits)])\n",
    "qc_qaoa.append(qc_p, [i for i in range(0, nqubits)])\n",
    "\n",
    "qc_qaoa.decompose().decompose().draw()"
   ]
  },
  {
   "cell_type": "code",
   "execution_count": 105,
   "metadata": {},
   "outputs": [],
   "source": [
    "a=1000\n",
    "b=300\n",
    "def obj_func(x):\n",
    "    \n",
    "    if x=='00':\n",
    "        return a+b\n",
    "    if x=='01':\n",
    "        return a-b\n",
    "    if x=='10':\n",
    "        return -b-a\n",
    "    else:\n",
    "        return b-a\n",
    "\n",
    "\n",
    "def compute_expectation(counts):\n",
    "        \n",
    "    avg = 0\n",
    "    sum_count = 0\n",
    "    for bitstring, count in counts.items():\n",
    "        \n",
    "        obj = -obj_func(bitstring[::-1])\n",
    "        avg += obj * count\n",
    "        sum_count += count\n",
    "        \n",
    "    return avg/sum_count\n",
    "\n",
    "def create_qaoa_circ(theta):\n",
    "\n",
    "    nqubits = 2\n",
    "    p = len(theta)//2  # number of alternating unitaries\n",
    "    qc = QuantumCircuit(nqubits)\n",
    "    \n",
    "    beta = theta[:p]\n",
    "    gamma = theta[p:]\n",
    "    \n",
    "    # initial_state\n",
    "    for i in range(0, nqubits):\n",
    "        qc.h(i)\n",
    "    \n",
    "    for irep in range(0, p):\n",
    "        \n",
    "        for i in range(0, nqubits):\n",
    "            qc.rx(2 * beta[irep], i)\n",
    "\n",
    "        qc.rz(2*gamma[irep]*a,0)\n",
    "        qc.rzz(2*gamma[irep]*b,0,1) \n",
    "            \n",
    "    qc.measure_all()\n",
    "        \n",
    "    return qc\n",
    "\n",
    "# Finally we write a function that executes the circuit on the chosen backend\n",
    "def get_expectation(shots=512):\n",
    "    \n",
    "    backend = Aer.get_backend('qasm_simulator')\n",
    "    backend.shots = shots\n",
    "    \n",
    "    def execute_circ(theta):\n",
    "        \n",
    "        qc = create_qaoa_circ(theta)\n",
    "        counts = backend.run(qc, seed_simulator=10, \n",
    "                             nshots=512).result().get_counts()\n",
    "        \n",
    "        return compute_expectation(counts)\n",
    "    \n",
    "    return execute_circ"
   ]
  },
  {
   "cell_type": "code",
   "execution_count": 108,
   "metadata": {},
   "outputs": [
    {
     "data": {
      "text/plain": [
       "     fun: -1261.328125\n",
       "   maxcv: 0.0\n",
       " message: 'Optimization terminated successfully.'\n",
       "    nfev: 179\n",
       "  status: 1\n",
       " success: True\n",
       "       x: array([1.00016257, 2.15296059, 0.92342525, 2.26140007, 0.39332049,\n",
       "       0.84302541, 0.58075213, 0.78428214, 0.87692128, 0.58173068,\n",
       "       0.89005991, 0.86459306, 0.87077202, 0.95717561, 0.79815393,\n",
       "       0.85341376, 0.99026113, 0.79534905, 0.8377773 , 0.99447646])"
      ]
     },
     "execution_count": 108,
     "metadata": {},
     "output_type": "execute_result"
    }
   ],
   "source": [
    "from scipy.optimize import minimize\n",
    "\n",
    "\n",
    "expectation = get_expectation()\n",
    "\n",
    "res = minimize(expectation, \n",
    "                      np.ones(20), \n",
    "                      method='COBYLA')\n",
    "res"
   ]
  },
  {
   "cell_type": "code",
   "execution_count": 109,
   "metadata": {},
   "outputs": [
    {
     "data": {
      "image/png": "[encoded data removed]",
      "text/plain": [
       "<Figure size 504x360 with 1 Axes>"
      ]
     },
     "execution_count": 109,
     "metadata": {},
     "output_type": "execute_result"
    }
   ],
   "source": [
    "from qiskit.visualization import plot_histogram\n",
    "\n",
    "backend = Aer.get_backend('aer_simulator')\n",
    "backend.shots = 512\n",
    "\n",
    "qc_res = create_qaoa_circ(res.x)\n",
    "\n",
    "counts = backend.run(qc_res, seed_simulator=10).result().get_counts()\n",
    "\n",
    "plot_histogram(counts)"
   ]
  }
 ],
 "metadata": {
  "kernelspec": {
   "display_name": "Python 3",
   "language": "python",
   "name": "python3"
  },
  "language_info": {
   "codemirror_mode": {
    "name": "ipython",
    "version": 3
   },
   "file_extension": ".py",
   "mimetype": "text/x-python",
   "name": "python",
   "nbconvert_exporter": "python",
   "pygments_lexer": "ipython3",
   "version": "3.12.3"
  },
  "orig_nbformat": 4
 },
 "nbformat": 4,
 "nbformat_minor": 2
}
