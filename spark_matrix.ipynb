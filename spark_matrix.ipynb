{
 "cells": [
  {
   "cell_type": "code",
   "execution_count": 1,
   "metadata": {},
   "outputs": [],
   "source": [
    "import numpy as np\n",
    "import copy"
   ]
  },
  {
   "cell_type": "code",
   "execution_count": 2,
   "metadata": {},
   "outputs": [],
   "source": [
    "def bin_to_pattern(x):\n",
    "    return [ [1-int(i), int(i)] for i in x ]"
   ]
  },
  {
   "cell_type": "code",
   "execution_count": 3,
   "metadata": {},
   "outputs": [],
   "source": [
    "def create_specific_patterns(mode1,mode2,size):\n",
    "    pats =[]\n",
    "    for i in range(2):\n",
    "        for j in range(2):\n",
    "            pats.append( [[1,1]]*mode1 + bin_to_pattern(str(i)) + [[1,1]]*(mode2-mode1-1) + bin_to_pattern(str(j)) + [[1,1]]*(size-mode1-(mode2-mode1-1)-2) )\n",
    "    return pats"
   ]
  },
  {
   "cell_type": "code",
   "execution_count": 4,
   "metadata": {},
   "outputs": [],
   "source": [
    "def create_specific_patterns3(mode1,mode2,mode3,size):\n",
    "    pats =[]\n",
    "    for i in range(2):\n",
    "        for j in range(2):\n",
    "            for k in range(2):\n",
    "                pats.append( [[1,1]]*mode1 + bin_to_pattern(str(i)) + [[1,1]]*(mode2-mode1-1) + bin_to_pattern(str(j)) + [[1,1]]*(mode3-(mode2-mode1-1)-mode1-2) + bin_to_pattern(str(k)) + [[1,1]]*(size -mode1-(mode2-mode1-1)-(mode3-(mode2-mode1-1)-mode1-2)-3) )\n",
    "    return pats"
   ]
  },
  {
   "cell_type": "code",
   "execution_count": 5,
   "metadata": {},
   "outputs": [],
   "source": [
    "def create_specific_patterns4(mode1,mode2,mode3,mode4,size):\n",
    "    pats = []\n",
    "    temp_pats = create_specific_patterns3(mode1,mode2,mode3,size)\n",
    "    for p in temp_pats:\n",
    "        for k in range(2):\n",
    "            p_prime = copy.deepcopy(p)\n",
    "            p_prime[mode4] = bin_to_pattern(str(k))[0]\n",
    "            pats.append(p_prime)\n",
    "    return pats\n",
    "# create_specific_patterns4(0,1,2,4,N)"
   ]
  },
  {
   "cell_type": "code",
   "execution_count": 6,
   "metadata": {},
   "outputs": [],
   "source": [
    "def dev_pattern(pat):\n",
    "    f = np.array([1])\n",
    "    for i in pat:\n",
    "        f = np.kron(f,i)\n",
    "    return f"
   ]
  },
  {
   "cell_type": "code",
   "execution_count": 7,
   "metadata": {},
   "outputs": [
    {
     "name": "stdout",
     "output_type": "stream",
     "text": [
      "[[[1, 0], [1, 0]], [[1, 0], [0, 1]], [[0, 1], [1, 0]], [[0, 1], [0, 1]]]\n",
      "[[1 0 0 0]\n",
      " [0 1 0 0]\n",
      " [0 0 1 0]\n",
      " [0 0 0 1]]\n"
     ]
    },
    {
     "data": {
      "text/plain": [
       "4"
      ]
     },
     "execution_count": 7,
     "metadata": {},
     "output_type": "execute_result"
    }
   ],
   "source": [
    "N = 2\n",
    "s = 2                       #Sparsity\n",
    "\n",
    "all_pat = create_specific_patterns(0,1,N)\n",
    "print((all_pat))\n",
    "\n",
    "A = np.matrix([ dev_pattern(p) for p in all_pat])\n",
    "print(A)\n",
    "np.linalg.matrix_rank(A)"
   ]
  },
  {
   "cell_type": "code",
   "execution_count": 10,
   "metadata": {},
   "outputs": [
    {
     "data": {
      "text/plain": [
       "(20, 64)"
      ]
     },
     "execution_count": 10,
     "metadata": {},
     "output_type": "execute_result"
    }
   ],
   "source": [
    "N = 6\n",
    "all_pat = []\n",
    "# all_pat = create_specific_patterns(0,1,print(result)N) + create_specific_patterns(2, 3,N) + create_specific_patterns(1, 3,N)\n",
    "for i in range(N-1):\n",
    "    all_pat += create_specific_patterns(i,i+1,N)\n",
    "\n",
    "A = np.matrix([ dev_pattern(p) for p in all_pat])\n",
    "A.shape"
   ]
  },
  {
   "cell_type": "code",
   "execution_count": 30,
   "metadata": {},
   "outputs": [
    {
     "data": {
      "text/plain": [
       "(128, 256)"
      ]
     },
     "execution_count": 30,
     "metadata": {},
     "output_type": "execute_result"
    }
   ],
   "source": [
    "N = 8\n",
    "all_pat = []\n",
    "\n",
    "l = np.arange(0,N)\n",
    "all_pat = []\n",
    "for i in range(8):\n",
    "    np.random.shuffle(l)\n",
    "    r = l[0:4]\n",
    "    r.sort()\n",
    "    all_pat += create_specific_patterns4(r[0],r[1],r[2],r[3],N)\n",
    "\n",
    "# all_pat = create_specific_patterns4(0,1,3,5,N) + create_specific_patterns4(1,2,4,7,N)\n",
    "\n",
    "A = np.matrix([ dev_pattern(p) for p in all_pat])\n",
    "A.shape"
   ]
  },
  {
   "cell_type": "markdown",
   "metadata": {},
   "source": [
    "<h2>Coherence</h2>"
   ]
  },
  {
   "cell_type": "code",
   "execution_count": 14,
   "metadata": {},
   "outputs": [
    {
     "name": "stdout",
     "output_type": "stream",
     "text": [
      "Bound 0.1868706368604627\n",
      "4\n"
     ]
    }
   ],
   "source": [
    "def compute_coherence(A):\n",
    "    M,N = A.shape\n",
    "    coherence = 0\n",
    "    mem = (0,0)\n",
    "    for i in range(N):\n",
    "        for j in range(i+1,N):\n",
    "            temp = (A[:,i].T*A[:,j])[0,0]\n",
    "            if temp>coherence:\n",
    "                coherence = temp\n",
    "                mem = (i,j)\n",
    "    print(\"Bound {}\".format(np.sqrt((N-M)/(M*(N-1)))))\n",
    "    # print(mem)\n",
    "    return coherence\n",
    "\n",
    "print(compute_coherence(A))"
   ]
  },
  {
   "cell_type": "code",
   "execution_count": 25,
   "metadata": {},
   "outputs": [
    {
     "name": "stdout",
     "output_type": "stream",
     "text": [
      "Bound 0.1656833739159028\n"
     ]
    },
    {
     "data": {
      "text/plain": [
       "13.045676786504469"
      ]
     },
     "execution_count": 25,
     "metadata": {},
     "output_type": "execute_result"
    }
   ],
   "source": [
    "A = np.matrix(np.random.rand(32, 256))\n",
    "compute_coherence(A)"
   ]
  },
  {
   "cell_type": "markdown",
   "metadata": {},
   "source": [
    "<h2>NSP</h2>"
   ]
  },
  {
   "cell_type": "code",
   "execution_count": 11,
   "metadata": {},
   "outputs": [],
   "source": [
    "def combinations(arr, k):\n",
    "    # Base case: if k is 0, return an empty list (one valid combination)\n",
    "    if k == 0:\n",
    "        return [[]]\n",
    "    \n",
    "    # If no more elements or not enough elements to form a combination, return empty list\n",
    "    if len(arr) < k:\n",
    "        return []\n",
    "    \n",
    "    # Take the first element\n",
    "    first = arr[0]\n",
    "    \n",
    "    # Combinations that include the first element\n",
    "    with_first = combinations(arr[1:], k - 1)\n",
    "    \n",
    "    # Add the first element to each of the combinations\n",
    "    with_first = [[first] + comb for comb in with_first]\n",
    "    \n",
    "    # Combinations that exclude the first element\n",
    "    without_first = combinations(arr[1:], k)\n",
    "    \n",
    "    # Return both with and without the first element\n",
    "    return with_first + without_first"
   ]
  },
  {
   "cell_type": "code",
   "execution_count": 31,
   "metadata": {},
   "outputs": [
    {
     "name": "stdout",
     "output_type": "stream",
     "text": [
      "Bound 69\n",
      "2\n",
      "3\n",
      "4\n"
     ]
    }
   ],
   "source": [
    "def spark(A):\n",
    "    M,N = A.shape\n",
    "    rk = np.linalg.matrix_rank(A)\n",
    "    arr = np.arange(N)\n",
    "    print(\"Bound {}\".format(rk+1))\n",
    "    for k in range(2,rk):\n",
    "        print(k)\n",
    "        all_combi = combinations(arr, k)\n",
    "        for combi in all_combi:\n",
    "            sub_A = A[:,combi]\n",
    "            QA_sub_A = np.linalg.qr(sub_A)[1].round()\n",
    "            if 0 in np.diag(QA_sub_A):\n",
    "                # print(sub_A)\n",
    "                print(combi)\n",
    "                return k\n",
    "    return rk+1\n",
    "\n",
    "spark(A)"
   ]
  }
 ],
 "metadata": {
  "kernelspec": {
   "display_name": "Python 3",
   "language": "python",
   "name": "python3"
  },
  "language_info": {
   "codemirror_mode": {
    "name": "ipython",
    "version": 3
   },
   "file_extension": ".py",
   "mimetype": "text/x-python",
   "name": "python",
   "nbconvert_exporter": "python",
   "pygments_lexer": "ipython3",
   "version": "3.10.12"
  }
 },
 "nbformat": 4,
 "nbformat_minor": 2
}
