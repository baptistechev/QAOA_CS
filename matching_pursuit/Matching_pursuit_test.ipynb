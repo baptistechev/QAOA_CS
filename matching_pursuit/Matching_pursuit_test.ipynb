{
 "cells": [
  {
   "cell_type": "code",
   "execution_count": 451,
   "metadata": {},
   "outputs": [],
   "source": [
    "import numpy as np\n",
    "from qiskit.quantum_info.operators.symplectic import SparsePauliOp\n",
    "import matplotlib.pyplot as plt\n",
    "from qiskit import QuantumCircuit, ClassicalRegister, QuantumRegister\n",
    "from qiskit import Aer, execute\n",
    "from qiskit.circuit import Parameter\n",
    "from scipy.optimize import minimize\n",
    "from qiskit.visualization import plot_histogram\n",
    "from bitstring import BitArray"
   ]
  },
  {
   "cell_type": "code",
   "execution_count": 452,
   "metadata": {},
   "outputs": [],
   "source": [
    "def bin_to_pattern(x):\n",
    "    return [ [1-int(i), int(i)] for i in x ]"
   ]
  },
  {
   "cell_type": "code",
   "execution_count": 453,
   "metadata": {},
   "outputs": [],
   "source": [
    "def all_config(size):\n",
    "    all_pat = []\n",
    "    for i in range(size-1):\n",
    "        for j in range(size-1-i):\n",
    "            for v1 in range(2):\n",
    "                for v2 in range(2):\n",
    "                    all_pat.append( [[1,1]]*i + bin_to_pattern(str(v1)) + [[1,1]]*j + bin_to_pattern(str(v2)) + [[1,1]]*(size-i-j-2))\n",
    "    return all_pat"
   ]
  },
  {
   "cell_type": "code",
   "execution_count": 454,
   "metadata": {},
   "outputs": [],
   "source": [
    "def create_specific_patterns(mode1,mode2,size):\n",
    "    pats =[]\n",
    "    for i in range(2):\n",
    "        for j in range(2):\n",
    "            pats.append( [[1,1]]*mode1 + bin_to_pattern(str(i)) + [[1,1]]*(mode2-mode1-1) + bin_to_pattern(str(j)) + [[1,1]]*(size-mode1-(mode2-mode1-1)-2) )\n",
    "    return pats"
   ]
  },
  {
   "cell_type": "code",
   "execution_count": 455,
   "metadata": {},
   "outputs": [],
   "source": [
    "def create_specific_patterns3(mode1,mode2,mode3,size):\n",
    "    pats =[]\n",
    "    for i in range(2):\n",
    "        for j in range(2):\n",
    "            for k in range(2):\n",
    "                pats.append( [[1,1]]*mode1 + bin_to_pattern(str(i)) + [[1,1]]*(mode2-mode1-1) + bin_to_pattern(str(j)) + [[1,1]]*(mode3-(mode2-mode1-1)-mode1-2) + bin_to_pattern(str(k)) + [[1,1]]*(size -mode1-(mode2-mode1-1)-(mode3-(mode2-mode1-1)-mode1-2)-3) )\n",
    "    return pats"
   ]
  },
  {
   "cell_type": "code",
   "execution_count": 456,
   "metadata": {},
   "outputs": [],
   "source": [
    "def overlapp(x,measurement):\n",
    "    return np.prod( [np.dot(p1,p2) for p1,p2 in zip(x,measurement)] )"
   ]
  },
  {
   "cell_type": "code",
   "execution_count": 457,
   "metadata": {},
   "outputs": [],
   "source": [
    "def dev_pattern(pat):\n",
    "    f = np.array([1])\n",
    "    for i in pat:\n",
    "        f = np.kron(f,i)\n",
    "    return f"
   ]
  },
  {
   "cell_type": "code",
   "execution_count": 458,
   "metadata": {},
   "outputs": [],
   "source": [
    "def decomposition(mat):\n",
    "    a,b,c,d = mat[0],mat[1],mat[2],mat[3]\n",
    "    return 1/4 * np.array( [a+b+c+d, a+b-c-d, a-b+c-d, a-b-c+d] )"
   ]
  },
  {
   "cell_type": "code",
   "execution_count": 481,
   "metadata": {},
   "outputs": [],
   "source": [
    "def compute_hamiltonian(all_pat,y):\n",
    "\n",
    "    H_ops = []\n",
    "\n",
    "    for p,yi in zip(all_pat,y):\n",
    "\n",
    "        ops = []\n",
    "        for i in range(0,len(p),2):\n",
    "            coefs = decomposition(dev_pattern([p[i],p[i+1]]))\n",
    "            ops.append(SparsePauliOp([\"II\",\"ZI\",\"IZ\",\"ZZ\"],coefs))\n",
    "        op = ops[0]\n",
    "        for i in range(1,len(ops)):\n",
    "            op = op.tensor(ops[i])\n",
    "        H_ops.append(op * yi[0])\n",
    "\n",
    "    #Recover paulis list\n",
    "    i=0\n",
    "    while len(H_ops[i].paulis)<=1:\n",
    "        i+=1\n",
    "    paulis_idx = H_ops[i].paulis\n",
    "\n",
    "    #Recover coeffs of H\n",
    "    H = np.real(np.sum([ op.coeffs for op in H_ops ]))\n",
    "\n",
    "    return H,paulis_idx\n",
    "\n",
    "H,paulis_idx = compute_hamiltonian(all_pat,y)\n",
    "# for pstring,coef in zip(paulis_idx,H):\n",
    "#     print(pstring,coef)"
   ]
  },
  {
   "cell_type": "code",
   "execution_count": 482,
   "metadata": {},
   "outputs": [],
   "source": [
    "def paulis_to_gates(pauli_string):\n",
    "    return [i for i,s in enumerate(pauli_string) if s=='Z']"
   ]
  },
  {
   "cell_type": "code",
   "execution_count": 483,
   "metadata": {},
   "outputs": [],
   "source": [
    "def obj_func(z):\n",
    "    v = BitArray(bin='0'+z).int\n",
    "    return (A.T[v] * y)[0,0]\n",
    "\n",
    "\n",
    "def compute_expectation(counts):\n",
    "        \n",
    "    avg = 0\n",
    "    sum_count = 0\n",
    "    for bitstring, count in counts.items():\n",
    "        obj = -obj_func(bitstring)\n",
    "        avg += obj * count\n",
    "        sum_count += count\n",
    "        \n",
    "    return avg/sum_count\n",
    "\n",
    "def create_qaoa_circ(theta,paulis_idx,H):\n",
    "\n",
    "    nqubits = N\n",
    "    p = len(theta)//2  # number of alternating unitaries\n",
    "    qc = QuantumCircuit(nqubits)\n",
    "    \n",
    "    beta = theta[:p]\n",
    "    gamma = theta[p:]\n",
    "    \n",
    "    # initial_state\n",
    "    for i in range(0, nqubits):\n",
    "        qc.h(i)\n",
    "    \n",
    "    for irep in range(0, p):\n",
    "        \n",
    "        for i in range(0, nqubits):\n",
    "            qc.rx(2 * beta[irep], i)\n",
    "\n",
    "        for pstring,coef in zip(paulis_idx,H):\n",
    "            if coef!=0:\n",
    "                idx = paulis_to_gates(str(pstring))\n",
    "                if len(idx)==1:\n",
    "                    qc.rz(2*gamma[irep]*coef,idx[0])\n",
    "                if len(idx)==2:\n",
    "                    qc.rzz(2*gamma[irep]*coef,idx[0],idx[1])\n",
    "                if len(idx)==3:\n",
    "                    qc.cnot(idx[0],idx[1])\n",
    "                    qc.cnot(idx[1],idx[2])\n",
    "                    qc.rz(2*gamma[irep]*coef,idx[2])\n",
    "                    qc.cnot(idx[1],idx[2])\n",
    "                    qc.cnot(idx[0],idx[1])\n",
    "\n",
    "    qc.measure_all()\n",
    "        \n",
    "    return qc\n",
    "\n",
    "# Finally we write a function that executes the circuit on the chosen backend\n",
    "def get_expectation(shots=512):\n",
    "    \n",
    "    backend = Aer.get_backend('qasm_simulator')\n",
    "    backend.shots = shots\n",
    "    \n",
    "    def execute_circ(theta):\n",
    "        \n",
    "        qc = create_qaoa_circ(theta,paulis_idx,H)\n",
    "        counts = backend.run(qc, seed_simulator=10, \n",
    "                             nshots=512).result().get_counts()\n",
    "        \n",
    "        return compute_expectation(counts)\n",
    "    \n",
    "    return execute_circ"
   ]
  },
  {
   "cell_type": "code",
   "execution_count": 484,
   "metadata": {},
   "outputs": [
    {
     "data": {
      "text/plain": [
       "     fun: -11.283203125\n",
       "   maxcv: 0.0\n",
       " message: 'Optimization terminated successfully.'\n",
       "    nfev: 617\n",
       "  status: 1\n",
       " success: True\n",
       "       x: array([1.0189582 , 1.01092311, 2.09224237, 1.09771444, 1.11970496,\n",
       "       1.16461027, 0.92471076, 1.09870338, 1.14544079, 1.2037529 ,\n",
       "       0.95267414, 0.94776197, 0.94920719, 0.97814129, 1.10043502,\n",
       "       1.15007387, 0.96294284, 0.89089657, 0.96143231, 0.88003523,\n",
       "       0.91169969, 0.92668287, 0.89824918, 0.96331458, 0.89713408,\n",
       "       0.90851209, 1.0266313 , 0.98962454, 0.91833885, 1.02170074,\n",
       "       0.95156026, 0.95359949, 1.00438521, 0.96029627, 0.96952312,\n",
       "       0.98593344, 0.98040449, 0.97112935, 0.97261647, 0.89605187,\n",
       "       0.97037737, 1.02465681, 0.92732009, 1.011924  , 1.06994172,\n",
       "       0.98142582, 0.93213207, 0.96182019, 0.92858982, 0.95238036])"
      ]
     },
     "execution_count": 484,
     "metadata": {},
     "output_type": "execute_result"
    }
   ],
   "source": [
    "expectation = get_expectation()\n",
    "\n",
    "res = minimize(expectation, \n",
    "                      np.ones(50), \n",
    "                      method='COBYLA')\n",
    "res"
   ]
  },
  {
   "cell_type": "code",
   "execution_count": 485,
   "metadata": {},
   "outputs": [
    {
     "name": "stdout",
     "output_type": "stream",
     "text": [
      "14\n"
     ]
    },
    {
     "data": {
      "image/png": "[encoded data removed]",
      "text/plain": [
       "<Figure size 504x360 with 1 Axes>"
      ]
     },
     "execution_count": 485,
     "metadata": {},
     "output_type": "execute_result"
    }
   ],
   "source": [
    "backend = Aer.get_backend('aer_simulator')\n",
    "backend.shots = 512\n",
    "\n",
    "qc_res = create_qaoa_circ(res.x,paulis_idx,H)\n",
    "\n",
    "counts = backend.run(qc_res, seed_simulator=10).result().get_counts()\n",
    "\n",
    "z = list(counts.keys())[np.argmax(list(counts.values()))]\n",
    "print(BitArray(bin='0'+z).int)\n",
    "\n",
    "plot_histogram(counts)"
   ]
  },
  {
   "cell_type": "code",
   "execution_count": 479,
   "metadata": {},
   "outputs": [
    {
     "name": "stdout",
     "output_type": "stream",
     "text": [
      "6\n",
      "25\n",
      "011001\n",
      "14\n",
      "001110\n"
     ]
    }
   ],
   "source": [
    "m = 3                       #Number of modes\n",
    "a = 3                       #Number of possible values\n",
    "N = int(np.log2(a**m))+1 if (int(np.log2(a**m))+1)%2 == 0 else int(np.log2(a**m))+2    #Number of qubits for encoding\n",
    "\n",
    "print(N)\n",
    "#Random spectrum\n",
    "x1 = np.random.randint(a**m)\n",
    "x2 = np.random.randint(a**m)\n",
    "spec = [x1,x2]\n",
    "spec_val = [2,4]\n",
    "\n",
    "bin_spec = []\n",
    "\n",
    "for x in spec:\n",
    "    bin_x = \"{0:b}\".format(x)\n",
    "    bin_spec.append('0'*(N-len(bin_x)) + bin_x)\n",
    "\n",
    "    print(x)\n",
    "    print('0'*(N-len(bin_x)) + bin_x)"
   ]
  },
  {
   "cell_type": "code",
   "execution_count": 486,
   "metadata": {},
   "outputs": [
    {
     "name": "stdout",
     "output_type": "stream",
     "text": [
      "14\n",
      "(64, 1)\n",
      "[[ 4.]\n",
      " [ 0.]\n",
      " [ 8.]\n",
      " [ 4.]\n",
      " [ 8.]\n",
      " [ 4.]\n",
      " [12.]\n",
      " [ 8.]\n",
      " [12.]\n",
      " [ 6.]\n",
      " [20.]\n",
      " [ 8.]\n",
      " [20.]\n",
      " [14.]\n",
      " [28.]\n",
      " [16.]\n",
      " [ 4.]\n",
      " [ 6.]\n",
      " [ 2.]\n",
      " [ 4.]\n",
      " [ 2.]\n",
      " [ 4.]\n",
      " [ 0.]\n",
      " [ 2.]\n",
      " [ 8.]\n",
      " [14.]\n",
      " [10.]\n",
      " [10.]\n",
      " [ 4.]\n",
      " [10.]\n",
      " [ 6.]\n",
      " [ 6.]\n",
      " [ 0.]\n",
      " [ 0.]\n",
      " [ 0.]\n",
      " [ 0.]\n",
      " [ 0.]\n",
      " [ 0.]\n",
      " [ 0.]\n",
      " [ 0.]\n",
      " [ 4.]\n",
      " [ 2.]\n",
      " [ 8.]\n",
      " [ 0.]\n",
      " [ 8.]\n",
      " [ 6.]\n",
      " [12.]\n",
      " [ 4.]\n",
      " [ 0.]\n",
      " [ 0.]\n",
      " [ 0.]\n",
      " [ 0.]\n",
      " [ 0.]\n",
      " [ 0.]\n",
      " [ 0.]\n",
      " [ 0.]\n",
      " [ 2.]\n",
      " [ 6.]\n",
      " [ 6.]\n",
      " [ 4.]\n",
      " [ 0.]\n",
      " [ 4.]\n",
      " [ 4.]\n",
      " [ 2.]]\n"
     ]
    }
   ],
   "source": [
    "pat_spec = [bin_to_pattern(bin_x) for bin_x in bin_spec] \n",
    "all_pat = create_specific_patterns3(0,1,2,N)+create_specific_patterns3(0,1,3,N) + create_specific_patterns3(0,1,4,N) + create_specific_patterns3(0,1,5,N) + create_specific_patterns3(1,2,3,N) + create_specific_patterns3(1,2,5,N) + create_specific_patterns3(2,4,5,N)\n",
    "\n",
    "y = np.zeros((len(all_pat),1))\n",
    "for pat,val in zip(pat_spec,spec_val):\n",
    "    y += np.matrix([overlapp(pat,p)*val for p in all_pat]).T\n",
    "\n",
    "A = np.matrix([ dev_pattern(p) for p in all_pat])\n",
    "\n",
    "print( np.argmax(A.T * y))\n",
    "print( (A.T*y).shape)\n",
    "print((A.T*y))"
   ]
  },
  {
   "cell_type": "code",
   "execution_count": 487,
   "metadata": {},
   "outputs": [
    {
     "name": "stdout",
     "output_type": "stream",
     "text": [
      "14\n",
      "25\n"
     ]
    },
    {
     "data": {
      "text/plain": [
       "array([[ 0.],\n",
       "       [ 0.],\n",
       "       [ 0.],\n",
       "       [ 0.],\n",
       "       [ 0.],\n",
       "       [ 0.],\n",
       "       [ 0.],\n",
       "       [ 0.],\n",
       "       [ 0.],\n",
       "       [ 0.],\n",
       "       [ 0.],\n",
       "       [ 0.],\n",
       "       [ 0.],\n",
       "       [ 0.],\n",
       "       [28.],\n",
       "       [ 0.],\n",
       "       [ 0.],\n",
       "       [ 0.],\n",
       "       [ 0.],\n",
       "       [ 0.],\n",
       "       [ 0.],\n",
       "       [ 0.],\n",
       "       [ 0.],\n",
       "       [ 0.],\n",
       "       [ 0.],\n",
       "       [14.],\n",
       "       [ 0.],\n",
       "       [ 0.],\n",
       "       [ 0.],\n",
       "       [ 0.],\n",
       "       [ 0.],\n",
       "       [ 0.],\n",
       "       [ 0.],\n",
       "       [ 0.],\n",
       "       [ 0.],\n",
       "       [ 0.],\n",
       "       [ 0.],\n",
       "       [ 0.],\n",
       "       [ 0.],\n",
       "       [ 0.],\n",
       "       [ 0.],\n",
       "       [ 0.],\n",
       "       [ 0.],\n",
       "       [ 0.],\n",
       "       [ 0.],\n",
       "       [ 0.],\n",
       "       [ 0.],\n",
       "       [ 0.],\n",
       "       [ 0.],\n",
       "       [ 0.],\n",
       "       [ 0.],\n",
       "       [ 0.],\n",
       "       [ 0.],\n",
       "       [ 0.],\n",
       "       [ 0.],\n",
       "       [ 0.],\n",
       "       [ 0.],\n",
       "       [ 0.],\n",
       "       [ 0.],\n",
       "       [ 0.],\n",
       "       [ 0.],\n",
       "       [ 0.],\n",
       "       [ 0.],\n",
       "       [ 0.]])"
      ]
     },
     "execution_count": 487,
     "metadata": {},
     "output_type": "execute_result"
    }
   ],
   "source": [
    "import copy\n",
    "def matching_pursuit(y,A):\n",
    "\n",
    "    x_recov = np.zeros((2**N,1))\n",
    "    r = copy.deepcopy(y)\n",
    "\n",
    "    for i in range(2):\n",
    "\n",
    "        v = np.argmax(A.T * r)\n",
    "        print(v)\n",
    "\n",
    "        x_recov[v] = A.T[v]*r\n",
    "        r -= (0.2*((A.T[v]*r)[0,0]) * A.T[v]).T\n",
    "\n",
    "    return x_recov\n",
    "x_recov = matching_pursuit(y,A)\n",
    "x_recov"
   ]
  },
  {
   "cell_type": "code",
   "execution_count": 488,
   "metadata": {},
   "outputs": [
    {
     "name": "stdout",
     "output_type": "stream",
     "text": [
      "14\n",
      "25\n"
     ]
    },
    {
     "data": {
      "text/plain": [
       "array([[ 0.],\n",
       "       [ 0.],\n",
       "       [ 0.],\n",
       "       [ 0.],\n",
       "       [ 0.],\n",
       "       [ 0.],\n",
       "       [ 0.],\n",
       "       [ 0.],\n",
       "       [ 0.],\n",
       "       [ 0.],\n",
       "       [ 0.],\n",
       "       [ 0.],\n",
       "       [ 0.],\n",
       "       [ 0.],\n",
       "       [28.],\n",
       "       [ 0.],\n",
       "       [ 0.],\n",
       "       [ 0.],\n",
       "       [ 0.],\n",
       "       [ 0.],\n",
       "       [ 0.],\n",
       "       [ 0.],\n",
       "       [ 0.],\n",
       "       [ 0.],\n",
       "       [ 0.],\n",
       "       [14.],\n",
       "       [ 0.],\n",
       "       [ 0.],\n",
       "       [ 0.],\n",
       "       [ 0.],\n",
       "       [ 0.],\n",
       "       [ 0.],\n",
       "       [ 0.],\n",
       "       [ 0.],\n",
       "       [ 0.],\n",
       "       [ 0.],\n",
       "       [ 0.],\n",
       "       [ 0.],\n",
       "       [ 0.],\n",
       "       [ 0.],\n",
       "       [ 0.],\n",
       "       [ 0.],\n",
       "       [ 0.],\n",
       "       [ 0.],\n",
       "       [ 0.],\n",
       "       [ 0.],\n",
       "       [ 0.],\n",
       "       [ 0.],\n",
       "       [ 0.],\n",
       "       [ 0.],\n",
       "       [ 0.],\n",
       "       [ 0.],\n",
       "       [ 0.],\n",
       "       [ 0.],\n",
       "       [ 0.],\n",
       "       [ 0.],\n",
       "       [ 0.],\n",
       "       [ 0.],\n",
       "       [ 0.],\n",
       "       [ 0.],\n",
       "       [ 0.],\n",
       "       [ 0.],\n",
       "       [ 0.],\n",
       "       [ 0.]])"
      ]
     },
     "execution_count": 488,
     "metadata": {},
     "output_type": "execute_result"
    }
   ],
   "source": [
    "x_recov = np.zeros((2**N,1))\n",
    "\n",
    "for i in range(2):\n",
    "\n",
    "    H, paulis_idx = compute_hamiltonian(all_pat,y)\n",
    "\n",
    "    expectation = get_expectation()\n",
    "\n",
    "    res = minimize(expectation, \n",
    "                        np.ones(50), \n",
    "                        method='COBYLA')\n",
    "    backend = Aer.get_backend('aer_simulator')\n",
    "    backend.shots = 512\n",
    "\n",
    "    qc_res = create_qaoa_circ(res.x,paulis_idx,H)\n",
    "    counts = backend.run(qc_res, seed_simulator=10).result().get_counts()\n",
    "\n",
    "    # display(plot_histogram(counts))\n",
    "\n",
    "    z = list(counts.keys())[np.argmax(list(counts.values()))]\n",
    "\n",
    "    v = BitArray(bin='0'+z).int\n",
    "\n",
    "    print(v)\n",
    "\n",
    "    x_recov[v] = A.T[v]*y\n",
    "    y -= (0.2*((A.T[v]*y)[0,0]) * A.T[v]).T\n",
    "\n",
    "x_recov"
   ]
  }
 ],
 "metadata": {
  "kernelspec": {
   "display_name": "Python 3",
   "language": "python",
   "name": "python3"
  },
  "language_info": {
   "codemirror_mode": {
    "name": "ipython",
    "version": 3
   },
   "file_extension": ".py",
   "mimetype": "text/x-python",
   "name": "python",
   "nbconvert_exporter": "python",
   "pygments_lexer": "ipython3",
   "version": "3.10.6"
  },
  "orig_nbformat": 4,
  "vscode": {
   "interpreter": {
    "hash": "916dbcbb3f70747c44a77c7bcd40155683ae19c65e1c03b4aa3499c5328201f1"
   }
  }
 },
 "nbformat": 4,
 "nbformat_minor": 2
}
