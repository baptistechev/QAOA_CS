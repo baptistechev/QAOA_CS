{
 "cells": [
  {
   "cell_type": "code",
   "execution_count": 1,
   "metadata": {},
   "outputs": [],
   "source": [
    "import numpy as np\n",
    "from qiskit.quantum_info.operators.symplectic import SparsePauliOp\n",
    "import matplotlib.pyplot as plt\n",
    "from qiskit import QuantumCircuit, ClassicalRegister, QuantumRegister\n",
    "from qiskit import Aer, execute\n",
    "from qiskit.circuit import Parameter\n",
    "from scipy.optimize import minimize\n",
    "from qiskit.visualization import plot_histogram\n",
    "from bitstring import BitArray\n",
    "from collections import Counter"
   ]
  },
  {
   "cell_type": "code",
   "execution_count": 2,
   "metadata": {},
   "outputs": [],
   "source": [
    "def bin_to_pattern(x):\n",
    "    return [ [1-int(i), int(i)] for i in x ]"
   ]
  },
  {
   "cell_type": "code",
   "execution_count": 3,
   "metadata": {},
   "outputs": [],
   "source": [
    "def all_config(size):\n",
    "    all_pat = []\n",
    "    for i in range(size-1):\n",
    "        for j in range(size-1-i):\n",
    "            for v1 in range(2):\n",
    "                for v2 in range(2):\n",
    "                    all_pat.append( [[1,1]]*i + bin_to_pattern(str(v1)) + [[1,1]]*j + bin_to_pattern(str(v2)) + [[1,1]]*(size-i-j-2))\n",
    "    return all_pat"
   ]
  },
  {
   "cell_type": "code",
   "execution_count": 4,
   "metadata": {},
   "outputs": [],
   "source": [
    "def create_specific_patterns(mode1,mode2,size):\n",
    "    pats =[]\n",
    "    for i in range(2):\n",
    "        for j in range(2):\n",
    "            pats.append( [[1,1]]*mode1 + bin_to_pattern(str(i)) + [[1,1]]*(mode2-mode1-1) + bin_to_pattern(str(j)) + [[1,1]]*(size-mode1-(mode2-mode1-1)-2) )\n",
    "    return pats"
   ]
  },
  {
   "cell_type": "code",
   "execution_count": 5,
   "metadata": {},
   "outputs": [],
   "source": [
    "def create_specific_patterns3(mode1,mode2,mode3,size):\n",
    "    pats =[]\n",
    "    for i in range(2):\n",
    "        for j in range(2):\n",
    "            for k in range(2):\n",
    "                pats.append( [[1,1]]*mode1 + bin_to_pattern(str(i)) + [[1,1]]*(mode2-mode1-1) + bin_to_pattern(str(j)) + [[1,1]]*(mode3-(mode2-mode1-1)-mode1-2) + bin_to_pattern(str(k)) + [[1,1]]*(size -mode1-(mode2-mode1-1)-(mode3-(mode2-mode1-1)-mode1-2)-3) )\n",
    "    return pats"
   ]
  },
  {
   "cell_type": "code",
   "execution_count": 6,
   "metadata": {},
   "outputs": [],
   "source": [
    "def overlapp(x,measurement):\n",
    "    return np.prod( [np.dot(p1,p2) for p1,p2 in zip(x,measurement)] )"
   ]
  },
  {
   "cell_type": "code",
   "execution_count": 7,
   "metadata": {},
   "outputs": [],
   "source": [
    "def dev_pattern(pat):\n",
    "    f = np.array([1])\n",
    "    for i in pat:\n",
    "        f = np.kron(f,i)\n",
    "    return f"
   ]
  },
  {
   "cell_type": "code",
   "execution_count": 8,
   "metadata": {},
   "outputs": [],
   "source": [
    "def decomposition(mat):\n",
    "    a,b,c,d = mat[0],mat[1],mat[2],mat[3]\n",
    "    return 1/4 * np.array( [a+b+c+d, a+b-c-d, a-b+c-d, a-b-c+d] )"
   ]
  },
  {
   "cell_type": "code",
   "execution_count": 9,
   "metadata": {},
   "outputs": [],
   "source": [
    "def compute_hamiltonian(all_pat,y_var):\n",
    "\n",
    "    H_ops = []\n",
    "\n",
    "    for p,yi in zip(all_pat,y_var):\n",
    "        \n",
    "        ops = []\n",
    "        for i in range(0,len(p),2):\n",
    "            coefs = decomposition(dev_pattern([p[i],p[i+1]]))\n",
    "            ops.append(SparsePauliOp([\"II\",\"ZI\",\"IZ\",\"ZZ\"],coefs))\n",
    "        op = ops[0]\n",
    "        for i in range(1,len(ops)):\n",
    "            op = op.tensor(ops[i])\n",
    "        H_ops.append(op * yi[0])\n",
    "\n",
    "    #Recover paulis list\n",
    "    i=0\n",
    "    while len(H_ops[i].paulis)<=1:\n",
    "        i+=1\n",
    "    paulis_idx = H_ops[i].paulis\n",
    "\n",
    "    #Recover coeffs of H\n",
    "    H = np.real(np.sum([ op.coeffs for op in H_ops ]))\n",
    "\n",
    "    return H,paulis_idx\n",
    "\n",
    "# H,paulis_idx = compute_hamiltonian(all_pat,y)\n",
    "# for pstring,coef in zip(paulis_idx,H):\n",
    "#     print(pstring,coef)"
   ]
  },
  {
   "cell_type": "code",
   "execution_count": 10,
   "metadata": {},
   "outputs": [],
   "source": [
    "def paulis_to_gates(pauli_string):\n",
    "    return [i for i,s in enumerate(pauli_string) if s=='Z']"
   ]
  },
  {
   "cell_type": "code",
   "execution_count": 11,
   "metadata": {},
   "outputs": [],
   "source": [
    "def obj_func(z):\n",
    "    v = BitArray(bin='0'+z).int\n",
    "    return (A.T[v] * y)[0,0]\n",
    "\n",
    "\n",
    "def compute_expectation(counts):\n",
    "        \n",
    "    avg = 0\n",
    "    sum_count = 0\n",
    "    for bitstring, count in counts.items():\n",
    "        obj = -obj_func(bitstring)\n",
    "        avg += obj * count\n",
    "        sum_count += count\n",
    "        \n",
    "    return avg/sum_count\n",
    "\n",
    "def create_qaoa_circ(theta,paulis_idx,H):\n",
    "\n",
    "    nqubits = N\n",
    "    p = len(theta)//2  # number of alternating unitaries\n",
    "    qc = QuantumCircuit(nqubits)\n",
    "    \n",
    "    beta = theta[:p]\n",
    "    gamma = theta[p:]\n",
    "    \n",
    "    # initial_state\n",
    "    for i in range(0, nqubits):\n",
    "        qc.h(i)\n",
    "    \n",
    "    for irep in range(0, p):\n",
    "        \n",
    "        for i in range(0, nqubits):\n",
    "            qc.rx(2 * beta[irep], i)\n",
    "\n",
    "        for pstring,coef in zip(paulis_idx,H):\n",
    "            if coef!=0:\n",
    "                idx = paulis_to_gates(str(pstring))\n",
    "                if len(idx)==1:\n",
    "                    qc.rz(2*gamma[irep]*coef,idx[0])\n",
    "                if len(idx)==2:\n",
    "                    qc.rzz(2*gamma[irep]*coef,idx[0],idx[1])\n",
    "                if len(idx)==3:\n",
    "                    qc.cnot(idx[0],idx[1])\n",
    "                    qc.cnot(idx[1],idx[2])\n",
    "                    qc.rz(2*gamma[irep]*coef,idx[2])\n",
    "                    qc.cnot(idx[1],idx[2])\n",
    "                    qc.cnot(idx[0],idx[1])\n",
    "\n",
    "    qc.measure_all()\n",
    "        \n",
    "    return qc\n",
    "\n",
    "# Finally we write a function that executes the circuit on the chosen backend\n",
    "def get_expectation(shots=512):\n",
    "    \n",
    "    backend = Aer.get_backend('qasm_simulator')\n",
    "    backend.shots = shots\n",
    "    \n",
    "    def execute_circ(theta):\n",
    "        \n",
    "        qc = create_qaoa_circ(theta,paulis_idx,H)\n",
    "        counts = backend.run(qc, seed_simulator=10, \n",
    "                             nshots=512).result().get_counts()\n",
    "        \n",
    "        return compute_expectation(counts)\n",
    "    \n",
    "    return execute_circ"
   ]
  },
  {
   "cell_type": "code",
   "execution_count": 13,
   "metadata": {},
   "outputs": [
    {
     "name": "stdout",
     "output_type": "stream",
     "text": [
      "6\n",
      "[0, 16, 18]\n"
     ]
    },
    {
     "data": {
      "image/png": "[encoded data removed]",
      "text/plain": [
       "<Figure size 432x288 with 1 Axes>"
      ]
     },
     "metadata": {
      "needs_background": "light"
     },
     "output_type": "display_data"
    }
   ],
   "source": [
    "m = 3                       #Number of modes\n",
    "a = 3                       #Number of possible values\n",
    "N = int(np.log2(a**m))+1 if (int(np.log2(a**m))+1)%2 == 0 else int(np.log2(a**m))+2    #Number of qubits for encoding\n",
    "\n",
    "s = 3                       #Sparsity\n",
    "\n",
    "print(N)\n",
    "#Random sparse spectrum\n",
    "spec = np.arange(a**m)\n",
    "np.random.shuffle(spec)\n",
    "spec = list(spec[:s])\n",
    "spec.sort()\n",
    "spec_val = np.random.randint(50,100,s)\n",
    "bin_spec = []\n",
    "\n",
    "for x in spec:\n",
    "    bin_x = \"{0:b}\".format(x)\n",
    "    bin_spec.append('0'*(N-len(bin_x)) + bin_x)\n",
    "\n",
    "x = [spec_val[spec.index(i)] if (i in spec) else 0 for i in range(a**m)]\n",
    "plt.bar(range(a**m),x)\n",
    "plt.plot()\n",
    "print(spec)"
   ]
  },
  {
   "cell_type": "code",
   "execution_count": 39,
   "metadata": {},
   "outputs": [
    {
     "name": "stdout",
     "output_type": "stream",
     "text": [
      "56\n",
      "16\n",
      "(64, 1)\n",
      "[[ 793.]\n",
      " [ 485.]\n",
      " [ 366.]\n",
      " [ 242.]\n",
      " [ 426.]\n",
      " [ 118.]\n",
      " [ 183.]\n",
      " [  59.]\n",
      " [ 521.]\n",
      " [ 213.]\n",
      " [ 186.]\n",
      " [  62.]\n",
      " [ 367.]\n",
      " [  59.]\n",
      " [ 124.]\n",
      " [   0.]\n",
      " [1025.]\n",
      " [ 717.]\n",
      " [ 624.]\n",
      " [ 500.]\n",
      " [ 560.]\n",
      " [ 252.]\n",
      " [ 343.]\n",
      " [ 219.]\n",
      " [ 557.]\n",
      " [ 249.]\n",
      " [ 248.]\n",
      " [ 124.]\n",
      " [ 403.]\n",
      " [  95.]\n",
      " [ 186.]\n",
      " [  62.]\n",
      " [ 213.]\n",
      " [ 213.]\n",
      " [ 121.]\n",
      " [ 121.]\n",
      " [   0.]\n",
      " [   0.]\n",
      " [   0.]\n",
      " [   0.]\n",
      " [   0.]\n",
      " [   0.]\n",
      " [   0.]\n",
      " [   0.]\n",
      " [   0.]\n",
      " [   0.]\n",
      " [   0.]\n",
      " [   0.]\n",
      " [ 311.]\n",
      " [ 311.]\n",
      " [ 219.]\n",
      " [ 219.]\n",
      " [   0.]\n",
      " [   0.]\n",
      " [   0.]\n",
      " [   0.]\n",
      " [   0.]\n",
      " [   0.]\n",
      " [   0.]\n",
      " [   0.]\n",
      " [   0.]\n",
      " [   0.]\n",
      " [   0.]\n",
      " [   0.]]\n"
     ]
    }
   ],
   "source": [
    "pat_spec = [bin_to_pattern(bin_x) for bin_x in bin_spec] \n",
    "# all_pat = create_specific_patterns3(0,1,2,N)+create_specific_patterns3(0,1,3,N) + create_specific_patterns3(0,1,4,N) + create_specific_patterns3(0,1,5,N) + create_specific_patterns3(1,2,3,N) + create_specific_patterns3(1,2,5,N) + create_specific_patterns3(2,4,5,N)\n",
    "# all_pat = create_specific_patterns(0,2,N) + create_specific_patterns(0,3,N) + create_specific_patterns(1,3,N)\n",
    "\n",
    "l = np.arange(0,N)\n",
    "np.random.shuffle(l)\n",
    "r = l[0:3]\n",
    "r.sort()\n",
    "all_pat = create_specific_patterns3(r[0],r[1],r[2],N)\n",
    "for i in range(6):\n",
    "    np.random.shuffle(l)\n",
    "    r = l[0:3]\n",
    "    r.sort()\n",
    "    all_pat += create_specific_patterns3(r[0],r[1],r[2],N)\n",
    "\n",
    "print(len(all_pat))\n",
    "\n",
    "y = np.zeros((len(all_pat),1))\n",
    "for pat,val in zip(pat_spec,spec_val):\n",
    "    y += np.matrix([overlapp(pat,p)*val for p in all_pat]).T\n",
    "\n",
    "A = np.matrix([ dev_pattern(p) for p in all_pat])\n",
    "\n",
    "print( np.argmax(A.T * y))\n",
    "print( (A.T*y).shape)\n",
    "print((A.T*y))"
   ]
  },
  {
   "cell_type": "code",
   "execution_count": 40,
   "metadata": {},
   "outputs": [
    {
     "data": {
      "text/plain": [
       "[]"
      ]
     },
     "execution_count": 40,
     "metadata": {},
     "output_type": "execute_result"
    },
    {
     "data": {
      "image/png": "[encoded data removed]",
      "text/plain": [
       "<Figure size 432x288 with 1 Axes>"
      ]
     },
     "metadata": {
      "needs_background": "light"
     },
     "output_type": "display_data"
    }
   ],
   "source": [
    "import copy\n",
    "def matching_pursuit(y,A):\n",
    "\n",
    "    x_recov = np.zeros((2**N,1))\n",
    "    r = copy.deepcopy(y)\n",
    "\n",
    "    for i in range(10):\n",
    "\n",
    "        v = np.argmax(A.T * r)\n",
    "        # print(v)\n",
    "\n",
    "        x_recov[v] = A.T[v]*r\n",
    "        r -= (0.05*((A.T[v]*r)[0,0]) * A.T[v]).T\n",
    "\n",
    "    return x_recov\n",
    "x_recov = matching_pursuit(y,A)\n",
    "x_recov = list(x_recov.T[0])[:a**m]\n",
    "plt.bar(range(a**m),x_recov)\n",
    "plt.plot()"
   ]
  },
  {
   "cell_type": "code",
   "execution_count": 33,
   "metadata": {},
   "outputs": [
    {
     "name": "stdout",
     "output_type": "stream",
     "text": [
      "16\n",
      "[18, 16, 16, 16, 16, 16, 16, 16, 16, 18]\n",
      "16\n",
      "[24, 16, 16, 16, 16, 16, 16, 16, 16, 16]\n",
      "16\n",
      "[16, 0, 16, 18, 18, 16, 16, 16, 0, 16]\n",
      "16\n",
      "[6, 0, 2, 16, 26, 16, 18, 18, 0, 18]\n",
      "18\n",
      "[18, 24, 16, 0, 0, 1, 0, 16, 0, 0]\n",
      "0\n"
     ]
    },
    {
     "data": {
      "text/plain": [
       "[]"
      ]
     },
     "execution_count": 33,
     "metadata": {},
     "output_type": "execute_result"
    },
    {
     "data": {
      "image/png": "[encoded data removed]",
      "text/plain": [
       "<Figure size 432x288 with 1 Axes>"
      ]
     },
     "metadata": {
      "needs_background": "light"
     },
     "output_type": "display_data"
    }
   ],
   "source": [
    "x_recov = np.zeros((2**N,1))\n",
    "\n",
    "H, paulis_idx = compute_hamiltonian(all_pat,y)\n",
    "\n",
    "expectation = get_expectation()\n",
    "\n",
    "res = minimize(expectation, \n",
    "                np.ones(30), \n",
    "                method='COBYLA')\n",
    "backend = Aer.get_backend('aer_simulator')\n",
    "backend.shots = 512\n",
    "\n",
    "qc_res = create_qaoa_circ(res.x,paulis_idx,H)\n",
    "counts = backend.run(qc_res, seed_simulator=10).result().get_counts()\n",
    "\n",
    "z = list(counts.keys())[np.argmax(list(counts.values()))]\n",
    "v = BitArray(bin='0'+z).int\n",
    "print(v)\n",
    "good_v = v\n",
    "\n",
    "possible_s = np.arange(0.01,0.2,0.02)\n",
    "\n",
    "for i in range(5):\n",
    "\n",
    "    x_recov[good_v] = A.T[good_v]*y\n",
    "    values = []\n",
    "\n",
    "    for s in possible_s:\n",
    "        \n",
    "        y_prime = np.array(y - (s*((A.T[v]*y)[0,0]) * A.T[v]).T)\n",
    "        H, paulis_idx = compute_hamiltonian(all_pat,y_prime)\n",
    "\n",
    "        expectation = get_expectation()\n",
    "        res = minimize(expectation, \n",
    "                        np.ones(30), \n",
    "                        method='COBYLA')\n",
    "\n",
    "        qc_res = create_qaoa_circ(res.x,paulis_idx,H)\n",
    "        counts = backend.run(qc_res, seed_simulator=10).result().get_counts()\n",
    "        z = list(counts.keys())[np.argmax(list(counts.values()))]\n",
    "        v = BitArray(bin='0'+z).int\n",
    "        \n",
    "        values.append(v)\n",
    "    \n",
    "    print(values)\n",
    "    c = Counter(values)\n",
    "    ma = max(c, key=c.get)\n",
    "    values = np.array(values)\n",
    "\n",
    "    good_s = possible_s[np.where(values==ma)]\n",
    "    good_s = np.max(good_s)\n",
    "    \n",
    "    y -= (0.05*((A.T[good_v]*y)[0,0]) * A.T[v]).T\n",
    "    good_v = ma\n",
    "    print(good_v)\n",
    "\n",
    "x_recov[good_v] = A.T[good_v]*y\n",
    "\n",
    "x_recov = list(x_recov.T[0])[:a**m]\n",
    "plt.bar(range(a**m),x_recov)\n",
    "plt.plot()"
   ]
  }
 ],
 "metadata": {
  "kernelspec": {
   "display_name": "Python 3",
   "language": "python",
   "name": "python3"
  },
  "language_info": {
   "codemirror_mode": {
    "name": "ipython",
    "version": 3
   },
   "file_extension": ".py",
   "mimetype": "text/x-python",
   "name": "python",
   "nbconvert_exporter": "python",
   "pygments_lexer": "ipython3",
   "version": "3.10.6"
  },
  "orig_nbformat": 4,
  "vscode": {
   "interpreter": {
    "hash": "916dbcbb3f70747c44a77c7bcd40155683ae19c65e1c03b4aa3499c5328201f1"
   }
  }
 },
 "nbformat": 4,
 "nbformat_minor": 2
}
