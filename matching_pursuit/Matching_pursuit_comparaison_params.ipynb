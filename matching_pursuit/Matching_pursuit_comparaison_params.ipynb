{
 "cells": [
  {
   "cell_type": "code",
   "execution_count": null,
   "metadata": {},
   "outputs": [],
   "source": [
    "import numpy as np\n",
    "from qiskit.quantum_info.operators.symplectic import SparsePauliOp\n",
    "import matplotlib.pyplot as plt\n",
    "from qiskit import QuantumCircuit, ClassicalRegister, QuantumRegister\n",
    "from qiskit import Aer, execute\n",
    "from qiskit.circuit import Parameter\n",
    "from scipy.optimize import minimize\n",
    "from qiskit.visualization import plot_histogram\n",
    "from bitstring import BitArray\n",
    "from collections import Counter\n",
    "import copy\n",
    "import wojciech_remastered as wo"
   ]
  },
  {
   "cell_type": "code",
   "execution_count": 2,
   "metadata": {},
   "outputs": [],
   "source": [
    "def bin_to_pattern(x):\n",
    "    return [ [1-int(i), int(i)] for i in x ]"
   ]
  },
  {
   "cell_type": "code",
   "execution_count": 3,
   "metadata": {},
   "outputs": [],
   "source": [
    "def all_config(size):\n",
    "    all_pat = []\n",
    "    for i in range(size-1):\n",
    "        for j in range(size-1-i):\n",
    "            for v1 in range(2):\n",
    "                for v2 in range(2):\n",
    "                    all_pat.append( [[1,1]]*i + bin_to_pattern(str(v1)) + [[1,1]]*j + bin_to_pattern(str(v2)) + [[1,1]]*(size-i-j-2))\n",
    "    return all_pat"
   ]
  },
  {
   "cell_type": "code",
   "execution_count": 4,
   "metadata": {},
   "outputs": [],
   "source": [
    "def create_specific_patterns(mode1,mode2,size):\n",
    "    pats =[]\n",
    "    for i in range(2):\n",
    "        for j in range(2):\n",
    "            pats.append( [[1,1]]*mode1 + bin_to_pattern(str(i)) + [[1,1]]*(mode2-mode1-1) + bin_to_pattern(str(j)) + [[1,1]]*(size-mode1-(mode2-mode1-1)-2) )\n",
    "    return pats"
   ]
  },
  {
   "cell_type": "code",
   "execution_count": 5,
   "metadata": {},
   "outputs": [],
   "source": [
    "def create_specific_patterns3(mode1,mode2,mode3,size):\n",
    "    pats =[]\n",
    "    for i in range(2):\n",
    "        for j in range(2):\n",
    "            for k in range(2):\n",
    "                pats.append( [[1,1]]*mode1 + bin_to_pattern(str(i)) + [[1,1]]*(mode2-mode1-1) + bin_to_pattern(str(j)) + [[1,1]]*(mode3-(mode2-mode1-1)-mode1-2) + bin_to_pattern(str(k)) + [[1,1]]*(size -mode1-(mode2-mode1-1)-(mode3-(mode2-mode1-1)-mode1-2)-3) )\n",
    "    return pats"
   ]
  },
  {
   "cell_type": "code",
   "execution_count": 6,
   "metadata": {},
   "outputs": [],
   "source": [
    "def create_specific_patterns4(mode1,mode2,mode3,mode4,size):\n",
    "    pats = []\n",
    "    temp_pats = create_specific_patterns3(mode1,mode2,mode3,size)\n",
    "    for p in temp_pats:\n",
    "        for k in range(2):\n",
    "            p_prime = copy.deepcopy(p)\n",
    "            p_prime[mode4] = bin_to_pattern(str(k))[0]\n",
    "            pats.append(p_prime)\n",
    "    return pats\n",
    "# create_specific_patterns4(0,1,2,4,N)"
   ]
  },
  {
   "cell_type": "code",
   "execution_count": 7,
   "metadata": {},
   "outputs": [],
   "source": [
    "def overlapp(x,measurement):\n",
    "    return np.prod( [np.dot(p1,p2) for p1,p2 in zip(x,measurement)] )"
   ]
  },
  {
   "cell_type": "code",
   "execution_count": 8,
   "metadata": {},
   "outputs": [],
   "source": [
    "def dev_pattern(pat):\n",
    "    f = np.array([1])\n",
    "    for i in pat:\n",
    "        f = np.kron(f,i)\n",
    "    return f"
   ]
  },
  {
   "cell_type": "code",
   "execution_count": 9,
   "metadata": {},
   "outputs": [],
   "source": [
    "def compute_hamiltonian(all_pat,y):\n",
    "\n",
    "    H = 0\n",
    "\n",
    "    for p,yi in zip(all_pat,y):\n",
    "\n",
    "        if yi==0:\n",
    "            continue\n",
    "        \n",
    "        ops = []\n",
    "        for t in p:\n",
    "            if t == [0,1]:\n",
    "                coefs = [1/2,-1/2]\n",
    "            elif t == [1,0]:\n",
    "                coefs = [1/2,1/2]\n",
    "            else:\n",
    "                coefs = [1,0]\n",
    "            ops.append(SparsePauliOp([\"I\",\"Z\"],coefs))\n",
    "        op = ops[0]\n",
    "        for i in range(1,len(ops)):\n",
    "            op = op.tensor(ops[i]).simplify()\n",
    "        H = (H + (op * yi[0])).simplify()\n",
    "\n",
    "    return np.real_if_close(H.coeffs),H.paulis\n",
    "\n",
    "# H,paulis_idx = compute_hamiltonian(all_pat,y)\n",
    "# for pstring,coef in zip(paulis_idx,H):\n",
    "#     print(pstring,coef)"
   ]
  },
  {
   "cell_type": "code",
   "execution_count": 10,
   "metadata": {},
   "outputs": [],
   "source": [
    "def paulis_to_gates(pauli_string):\n",
    "    return [i for i,s in enumerate(pauli_string) if s=='Z']"
   ]
  },
  {
   "cell_type": "code",
   "execution_count": 11,
   "metadata": {},
   "outputs": [],
   "source": [
    "def obj_func(z):\n",
    "    v = BitArray(bin='0'+z).int\n",
    "    return (A.T[v] * y)[0,0]\n",
    "\n",
    "\n",
    "def compute_expectation(counts):\n",
    "        \n",
    "    avg = 0\n",
    "    sum_count = 0\n",
    "    for bitstring, count in counts.items():\n",
    "        obj = -obj_func(bitstring)\n",
    "        avg += obj * count\n",
    "        sum_count += count\n",
    "        \n",
    "    return avg/sum_count\n",
    "\n",
    "def create_qaoa_circ(theta,paulis_idx,H):\n",
    "\n",
    "    nqubits = N\n",
    "    p = len(theta)//2  # number of alternating unitaries\n",
    "    qc = QuantumCircuit(nqubits)\n",
    "    \n",
    "    beta = theta[:p]\n",
    "    gamma = theta[p:]\n",
    "    \n",
    "    # initial_state\n",
    "    for i in range(0, nqubits):\n",
    "        qc.h(i)\n",
    "    \n",
    "    for irep in range(0, p):\n",
    "        \n",
    "        for i in range(0, nqubits):\n",
    "            qc.rx(2 * beta[irep], i)\n",
    "\n",
    "        for pstring,coef in zip(paulis_idx,H):\n",
    "            if coef!=0:\n",
    "                idx = paulis_to_gates(str(pstring))\n",
    "                if len(idx)==1:\n",
    "                    qc.rz(2*gamma[irep]*coef,idx[0])\n",
    "                elif len(idx)==2:\n",
    "                    qc.rzz(2*gamma[irep]*coef,idx[0],idx[1])\n",
    "                elif len(idx)==3:\n",
    "                    qc.cnot(idx[0],idx[1])\n",
    "                    qc.cnot(idx[1],idx[2])\n",
    "                    qc.rz(2*gamma[irep]*coef,idx[2])\n",
    "                    qc.cnot(idx[1],idx[2])\n",
    "                    qc.cnot(idx[0],idx[1])\n",
    "                elif len(idx)==4:\n",
    "                    qc.cnot(idx[0],idx[1])\n",
    "                    qc.cnot(idx[1],idx[2])\n",
    "                    qc.cnot(idx[2],idx[3])\n",
    "                    qc.rz(2*gamma[irep]*coef,idx[3])\n",
    "                    qc.cnot(idx[2],idx[3])\n",
    "                    qc.cnot(idx[1],idx[2])\n",
    "                    qc.cnot(idx[0],idx[1])\n",
    "\n",
    "    qc.measure_all()\n",
    "        \n",
    "    return qc\n",
    "\n",
    "# Finally we write a function that executes the circuit on the chosen backend\n",
    "def get_expectation(paulis_idx,H,shots=512):\n",
    "    \n",
    "    backend = Aer.get_backend('qasm_simulator')\n",
    "    backend.shots = shots\n",
    "    \n",
    "    def execute_circ(theta):\n",
    "        \n",
    "        qc = create_qaoa_circ(theta,paulis_idx,H)\n",
    "        counts = backend.run(qc, seed_simulator=10, \n",
    "                             nshots=512).result().get_counts()\n",
    "        \n",
    "        return compute_expectation(counts)\n",
    "    \n",
    "    return execute_circ"
   ]
  },
  {
   "cell_type": "markdown",
   "metadata": {},
   "source": [
    "<h2>Metric functions def</h2>"
   ]
  },
  {
   "cell_type": "code",
   "execution_count": 306,
   "metadata": {},
   "outputs": [],
   "source": [
    "def sparse_to_full(vector,size):\n",
    "    v = np.zeros(size)\n",
    "    for pos,val in vector:\n",
    "        v[int(pos)] += val\n",
    "    return v"
   ]
  },
  {
   "cell_type": "code",
   "execution_count": 231,
   "metadata": {},
   "outputs": [],
   "source": [
    "#Recovery/Reconstruction Error (best = 0)\n",
    "#+-= MSE (at final time)\n",
    "\n",
    "def recoveryErr(x_original, x_reconstructed,N):\n",
    "    return np.linalg.norm(x_original - x_reconstructed) / np.linalg.norm(x_original)"
   ]
  },
  {
   "cell_type": "code",
   "execution_count": 232,
   "metadata": {},
   "outputs": [],
   "source": [
    "#Covariance (useless?)\n",
    "def cov(x_original, x_reconstructed,N):\n",
    "    return np.mean( (x_original - np.mean(x_original)) * (x_reconstructed - np.mean(x_reconstructed)) )"
   ]
  },
  {
   "cell_type": "code",
   "execution_count": 233,
   "metadata": {},
   "outputs": [],
   "source": [
    "#Correlation (best = 1)\n",
    "def correl(x_original, x_reconstructed,N):\n",
    "    return cov(x_original,x_reconstructed,N) / (np.std(x_original) * np.std(x_reconstructed))"
   ]
  },
  {
   "cell_type": "code",
   "execution_count": 346,
   "metadata": {},
   "outputs": [],
   "source": [
    "#Recovery Signal to noise ratio\n",
    "def RSNR(x_original, x_reconstructed,N):\n",
    "    return min(np.linalg.norm(x_original)**2 / np.mean(np.linalg.norm(x_original - x_reconstructed)**2),1000)"
   ]
  },
  {
   "cell_type": "code",
   "execution_count": 274,
   "metadata": {},
   "outputs": [],
   "source": [
    "#Error sparsity (best = 1)\n",
    "def ErrSparsity(original, reconstructed):\n",
    "    return len(original)/len(reconstructed)"
   ]
  },
  {
   "cell_type": "markdown",
   "metadata": {},
   "source": [
    "<h2>Main Test</h2>"
   ]
  },
  {
   "cell_type": "code",
   "execution_count": 496,
   "metadata": {},
   "outputs": [
    {
     "name": "stdout",
     "output_type": "stream",
     "text": [
      "0.966667441813087\n",
      "0.457085594536686\n",
      "1.7689749001688277\n",
      "0.6574175053403768\n"
     ]
    }
   ],
   "source": [
    "#Classical NN\n",
    "N = 6\n",
    "s = 3                       #Sparsity\n",
    "\n",
    "recov_errs = []\n",
    "correls = []\n",
    "RSNRs = []\n",
    "err_spar = []\n",
    "\n",
    "all_pat = []\n",
    "for i in range(N-1):\n",
    "    all_pat += create_specific_patterns(i,i+1,N)\n",
    "\n",
    "for nb in range(1000):\n",
    "    \n",
    "    #Random sparse spectrum\n",
    "    spec = np.arange(2**N)\n",
    "    np.random.shuffle(spec)\n",
    "    spec = list(spec[:s])\n",
    "    spec.sort()\n",
    "    spec_val = np.random.randint(50,100,s)\n",
    "\n",
    "    bin_spec = []\n",
    "    for x in spec:\n",
    "        bin_x = \"{0:b}\".format(x)\n",
    "        bin_spec.append('0'*(N-len(bin_x)) + bin_x)\n",
    "\n",
    "    pat_spec = [bin_to_pattern(bin_x) for bin_x in bin_spec] \n",
    "\n",
    "    y = np.zeros((len(all_pat),1))\n",
    "    for pat,val in zip(pat_spec,spec_val):\n",
    "        y += np.matrix([overlapp(pat,p)*val for p in all_pat]).T\n",
    "\n",
    "    st = 1\n",
    "    itnum = 100\n",
    "\n",
    "    x_recov = wo.Matchpurising(y[:,0],st,itnum,N,2,2)\n",
    "\n",
    "    x_origin = [[i,j] for i,j in zip(spec,spec_val)]\n",
    "\n",
    "    x_original = sparse_to_full(x_origin,2**N)\n",
    "    x_reconstructed = sparse_to_full(x_recov,2**N)\n",
    "\n",
    "    x_original = x_original/np.linalg.norm(x_original)\n",
    "    x_reconstructed = x_reconstructed/np.linalg.norm(x_reconstructed)\n",
    "\n",
    "    recov_errs.append( recoveryErr(x_original,x_reconstructed,N) )\n",
    "    correls.append( correl(x_original,x_reconstructed,N) )\n",
    "    RSNRs.append( RSNR(x_original,x_reconstructed,N) )\n",
    "    err_spar.append( ErrSparsity(x_origin,x_recov) )\n",
    "\n",
    "# print(x_origin)\n",
    "# print(x_recov)\n",
    "\n",
    "# print(np.linalg.norm(x_original))\n",
    "# print(np.linalg.norm(x_reconstructed))\n",
    "\n",
    "print(np.mean(recov_errs))\n",
    "print(np.mean(correls))\n",
    "print(np.mean(RSNRs))\n",
    "print(np.mean(err_spar))"
   ]
  },
  {
   "cell_type": "code",
   "execution_count": 444,
   "metadata": {},
   "outputs": [],
   "source": [
    "# from collections import OrderedDict\n",
    "\n",
    "# hist = Counter(np.array(recov_errs).round(decimals=1))\n",
    "# ind = []\n",
    "# valu = []\n",
    "# for i,j in hist.items():\n",
    "#     ind.append(i)\n",
    "#     valu.append(j)\n",
    "\n",
    "# plt.bar(ind,valu)\n",
    "# plt.plot()"
   ]
  },
  {
   "cell_type": "code",
   "execution_count": 495,
   "metadata": {},
   "outputs": [
    {
     "name": "stdout",
     "output_type": "stream",
     "text": [
      "[ 5 10 15 20 25 30]\n",
      "0\n",
      "1\n",
      "2\n",
      "3\n",
      "4\n",
      "5\n",
      "6\n",
      "7\n",
      "8\n",
      "9\n",
      "10\n",
      "11\n",
      "12\n",
      "13\n",
      "14\n",
      "15\n",
      "16\n",
      "17\n",
      "18\n",
      "19\n",
      "20\n",
      "21\n",
      "22\n",
      "23\n",
      "24\n",
      "25\n",
      "26\n",
      "27\n",
      "28\n",
      "29\n",
      "30\n",
      "31\n",
      "32\n",
      "33\n",
      "34\n",
      "35\n",
      "36\n",
      "37\n",
      "38\n",
      "39\n",
      "For p = 5\n",
      "1.167267918674853\n",
      "0.26019494648099106\n",
      "0.8119550912514921\n",
      "0.6425000000000001\n",
      "For p = 10\n",
      "1.0669377129065878\n",
      "0.3647558513182954\n",
      "1.143904458128897\n",
      "0.71\n",
      "For p = 15\n",
      "1.0766506501174677\n",
      "0.3560635540795548\n",
      "1.1146126287273082\n",
      "0.7175\n",
      "For p = 20\n",
      "1.076044939902739\n",
      "0.34635974542477693\n",
      "1.2055682418311302\n",
      "0.74375\n",
      "For p = 25\n",
      "1.128652761320835\n",
      "0.2995407876910301\n",
      "0.9340380334849543\n",
      "0.71375\n",
      "For p = 30\n",
      "1.1309670769096272\n",
      "0.29550628196418643\n",
      "0.9027617797512228\n",
      "0.6900000000000001\n"
     ]
    }
   ],
   "source": [
    "#Quantum NN\n",
    "N = 6\n",
    "s = 3                       #Sparsity\n",
    "\n",
    "train_params = np.arange(5,35,5)\n",
    "print(train_params)\n",
    "\n",
    "recov_errs = {}\n",
    "correls = {}\n",
    "RSNRs = {}\n",
    "err_spar = {}\n",
    "\n",
    "for p in train_params:\n",
    "    recov_errs[p] = []\n",
    "    correls[p] = []\n",
    "    RSNRs[p] = []\n",
    "    err_spar[p] = []\n",
    "\n",
    "all_pat = []\n",
    "for i in range(N-1):\n",
    "    all_pat += create_specific_patterns(i,i+1,N)\n",
    "\n",
    "for nb in range(40):\n",
    "    print(nb)\n",
    "    \n",
    "    #Random sparse spectrum\n",
    "    spec = np.arange(2**N)\n",
    "    np.random.shuffle(spec)\n",
    "    spec = list(spec[:s])\n",
    "    spec.sort()\n",
    "    spec_val = np.random.randint(50,100,s)\n",
    "\n",
    "    bin_spec = []\n",
    "    for x in spec:\n",
    "        bin_x = \"{0:b}\".format(x)\n",
    "        bin_spec.append('0'*(N-len(bin_x)) + bin_x)\n",
    "\n",
    "    pat_spec = [bin_to_pattern(bin_x) for bin_x in bin_spec] \n",
    "    \n",
    "    y = np.zeros((len(all_pat),1))\n",
    "    for pat,val in zip(pat_spec,spec_val):\n",
    "        y += np.matrix([overlapp(pat,p)*val for p in all_pat]).T\n",
    "    A = np.matrix([ dev_pattern(p) for p in all_pat])\n",
    "\n",
    "    for ind,p in enumerate(train_params):\n",
    "\n",
    "        # print(p)\n",
    "\n",
    "        st = 15\n",
    "        x_recov = []\n",
    "\n",
    "        for i in range(5):\n",
    "\n",
    "            H, paulis_idx = compute_hamiltonian(all_pat,y)\n",
    "\n",
    "            expectation = get_expectation(paulis_idx,H)\n",
    "\n",
    "            res = minimize(expectation, \n",
    "                                np.ones(p), \n",
    "                                method='COBYLA')\n",
    "            backend = Aer.get_backend('aer_simulator')\n",
    "            backend.shots = 512\n",
    "\n",
    "            qc_res = create_qaoa_circ(res.x,paulis_idx,H)\n",
    "            counts = backend.run(qc_res, seed_simulator=10).result().get_counts()\n",
    "\n",
    "            z = list(counts.keys())[np.argmax(list(counts.values()))]\n",
    "            v = BitArray(bin='0'+z).int\n",
    "\n",
    "            x_recov.append(v)\n",
    "            y -= (0.05*((A.T[v]*y)[0,0]) * A.T[v]).T\n",
    "\n",
    "        x_origin = [[i,j] for i,j in zip(spec,spec_val)]\n",
    "        x_recov = np.array([[it[0],it[1]*st] for it in Counter(x_recov).items()])\n",
    "\n",
    "        x_original = sparse_to_full(x_origin,2**N)\n",
    "        x_reconstructed = sparse_to_full(x_recov,2**N)\n",
    "\n",
    "        x_original = x_original/np.linalg.norm(x_original)\n",
    "        x_reconstructed = x_reconstructed/np.linalg.norm(x_reconstructed)\n",
    "\n",
    "        recov_errs[p].append( recoveryErr(x_original,x_reconstructed,N) )\n",
    "        correls[p].append( correl(x_original,x_reconstructed,N) )\n",
    "        RSNRs[p].append( RSNR(x_original,x_reconstructed,N) )\n",
    "        err_spar[p].append( ErrSparsity(x_origin,x_recov) )\n",
    "\n",
    "for p in train_params:\n",
    "    print(\"For p = {}\".format(p))\n",
    "    print(np.mean(recov_errs[p]))\n",
    "    print(np.mean(correls[p]))\n",
    "    print(np.mean(RSNRs[p]))\n",
    "    print(np.mean(err_spar[p]))"
   ]
  },
  {
   "cell_type": "code",
   "execution_count": 500,
   "metadata": {},
   "outputs": [
    {
     "name": "stdout",
     "output_type": "stream",
     "text": [
      "[ 5 10 15 20 25 30]\n",
      "0\n",
      "1\n",
      "2\n",
      "3\n",
      "4\n",
      "5\n",
      "6\n",
      "7\n",
      "8\n",
      "9\n",
      "For p = 5\n",
      "1.1010227293796924\n",
      "0.3436312392117685\n",
      "0.9208796133298088\n",
      "1.285\n",
      "For p = 10\n",
      "0.932595774435228\n",
      "0.5096493676662128\n",
      "1.8184315294350317\n",
      "0.985\n",
      "For p = 15\n",
      "0.5723024078364112\n",
      "0.7860053064097288\n",
      "8.582928763815678\n",
      "0.875\n",
      "For p = 20\n",
      "0.738548230268803\n",
      "0.6803542119165759\n",
      "4.517600958400455\n",
      "0.9099999999999999\n",
      "For p = 25\n",
      "0.960869985004166\n",
      "0.42973240187512596\n",
      "6.084887811883844\n",
      "0.8049999999999999\n",
      "For p = 30\n",
      "1.0482262360869552\n",
      "0.38578204875294464\n",
      "1.2309925397370447\n",
      "0.675\n"
     ]
    }
   ],
   "source": [
    "#Quantum Quadruplets\n",
    "N = 6\n",
    "s = 3                       #Sparsity\n",
    "\n",
    "train_params = np.arange(5,35,5)\n",
    "print(train_params)\n",
    "\n",
    "recov_errs = {}\n",
    "correls = {}\n",
    "RSNRs = {}\n",
    "err_spar = {}\n",
    "\n",
    "for p in train_params:\n",
    "    recov_errs[p] = []\n",
    "    correls[p] = []\n",
    "    RSNRs[p] = []\n",
    "    err_spar[p] = []\n",
    "\n",
    "for nb in range(10):\n",
    "    print(nb)\n",
    "    \n",
    "    #Random sparse spectrum\n",
    "    spec = np.arange(2**N)\n",
    "    np.random.shuffle(spec)\n",
    "    spec = list(spec[:s])\n",
    "    spec.sort()\n",
    "    spec_val = np.random.randint(50,100,s)\n",
    "\n",
    "    bin_spec = []\n",
    "    for x in spec:\n",
    "        bin_x = \"{0:b}\".format(x)\n",
    "        bin_spec.append('0'*(N-len(bin_x)) + bin_x)\n",
    "\n",
    "    pat_spec = [bin_to_pattern(bin_x) for bin_x in bin_spec] \n",
    "\n",
    "    l = np.arange(0,N)\n",
    "    all_pat = []\n",
    "    for i in range(9):\n",
    "        np.random.shuffle(l)\n",
    "        r = l[0:4]\n",
    "        r.sort()\n",
    "        all_pat += create_specific_patterns4(r[0],r[1],r[2],r[3],N)\n",
    "    \n",
    "    y = np.zeros((len(all_pat),1))\n",
    "    for pat,val in zip(pat_spec,spec_val):\n",
    "        y += np.matrix([overlapp(pat,p)*val for p in all_pat]).T\n",
    "    A = np.matrix([ dev_pattern(p) for p in all_pat])\n",
    "\n",
    "    for ind,p in enumerate(train_params):\n",
    "        # print(p)\n",
    "        x_recov = []\n",
    "        st = 15\n",
    "\n",
    "        for i in range(5):\n",
    "\n",
    "            H, paulis_idx = compute_hamiltonian(all_pat,y)\n",
    "\n",
    "            expectation = get_expectation(paulis_idx,H)\n",
    "\n",
    "            res = minimize(expectation, \n",
    "                                np.ones(p), \n",
    "                                method='COBYLA')\n",
    "            backend = Aer.get_backend('aer_simulator')\n",
    "            backend.shots = 512\n",
    "\n",
    "            qc_res = create_qaoa_circ(res.x,paulis_idx,H)\n",
    "            counts = backend.run(qc_res, seed_simulator=10).result().get_counts()\n",
    "\n",
    "            z = list(counts.keys())[np.argmax(list(counts.values()))]\n",
    "            v = BitArray(bin='0'+z).int\n",
    "\n",
    "            x_recov.append(v)\n",
    "            y -= (0.05*((A.T[v]*y)[0,0]) * A.T[v]).T\n",
    "\n",
    "        x_origin = [[i,j] for i,j in zip(spec,spec_val)]\n",
    "        x_recov = np.array([[it[0],it[1]*st] for it in Counter(x_recov).items()])\n",
    "\n",
    "        x_original = sparse_to_full(x_origin,2**N)\n",
    "        x_reconstructed = sparse_to_full(x_recov,2**N)\n",
    "\n",
    "        x_original = x_original/np.linalg.norm(x_original)\n",
    "        x_reconstructed = x_reconstructed/np.linalg.norm(x_reconstructed)\n",
    "\n",
    "        recov_errs[p].append( recoveryErr(x_original,x_reconstructed,N) )\n",
    "        correls[p].append( correl(x_original,x_reconstructed,N) )\n",
    "        RSNRs[p].append( RSNR(x_original,x_reconstructed,N) )\n",
    "        err_spar[p].append( ErrSparsity(x_origin,x_recov) )\n",
    "\n",
    "for p in train_params:\n",
    "    print(\"For p = {}\".format(p))\n",
    "    print(np.mean(recov_errs[p]))\n",
    "    print(np.mean(correls[p]))\n",
    "    print(np.mean(RSNRs[p]))\n",
    "    print(np.mean(err_spar[p]))"
   ]
  },
  {
   "cell_type": "markdown",
   "metadata": {},
   "source": [
    "<h2>Correlations</h2>"
   ]
  },
  {
   "cell_type": "code",
   "execution_count": 512,
   "metadata": {},
   "outputs": [
    {
     "data": {
      "image/png": "[encoded data removed]",
      "text/plain": [
       "<Figure size 432x288 with 1 Axes>"
      ]
     },
     "metadata": {
      "needs_background": "light"
     },
     "output_type": "display_data"
    },
    {
     "data": {
      "image/png": "[encoded data removed]",
      "text/plain": [
       "<Figure size 432x288 with 1 Axes>"
      ]
     },
     "metadata": {
      "needs_background": "light"
     },
     "output_type": "display_data"
    }
   ],
   "source": [
    "#NN\n",
    "correls = 0.457085594536686\n",
    "rates4 = [0.26019494648099106, 0.3647558513182954, 0.3560635540795548, 0.34635974542477693, 0.2995407876910301, 0.29550628196418643]\n",
    "plt.bar([0],[correls],color='lightblue')\n",
    "plt.bar(np.arange(5,35,5),rates4)\n",
    "plt.show()\n",
    "\n",
    "#Quad\n",
    "rates3 = [0.3436312392117685, 0.5096493676662128, 0.7860053064097288, 0.6803542119165759, 0.42973240187512596, 0.38578204875294464]\n",
    "plt.bar([0],[correls],color='lightblue')\n",
    "plt.bar(np.arange(5,35,5),rates3)\n",
    "plt.show()"
   ]
  },
  {
   "cell_type": "markdown",
   "metadata": {},
   "source": [
    "<h2>Recovery Error</h2>"
   ]
  },
  {
   "cell_type": "code",
   "execution_count": 508,
   "metadata": {},
   "outputs": [
    {
     "data": {
      "image/png": "[encoded data removed]",
      "text/plain": [
       "<Figure size 432x288 with 1 Axes>"
      ]
     },
     "metadata": {
      "needs_background": "light"
     },
     "output_type": "display_data"
    },
    {
     "data": {
      "image/png": "[encoded data removed]",
      "text/plain": [
       "<Figure size 432x288 with 1 Axes>"
      ]
     },
     "metadata": {
      "needs_background": "light"
     },
     "output_type": "display_data"
    }
   ],
   "source": [
    "#NN\n",
    "recov_err = 0.966667441813087\n",
    "rates2 = [1.167267918674853, 1.0669377129065878, 1.0766506501174677, 1.076044939902739, 1.128652761320835, 1.1309670769096272]\n",
    "plt.bar([0],[recov_err],color='lightblue')\n",
    "plt.bar(np.arange(5,35,5),rates2)\n",
    "plt.show()\n",
    "\n",
    "#Quad\n",
    "rates = [1.1010227293796924, 0.932595774435228, 0.5723024078364112, 0.738548230268803, 0.960869985004166, 1.0482262360869552]\n",
    "plt.bar([0],[recov_err],color='lightblue')\n",
    "plt.bar(np.arange(5,35,5),rates)\n",
    "plt.show()"
   ]
  },
  {
   "cell_type": "markdown",
   "metadata": {},
   "source": [
    "<h2>Sparsity Error</h2>"
   ]
  },
  {
   "cell_type": "code",
   "execution_count": 525,
   "metadata": {},
   "outputs": [
    {
     "data": {
      "image/png": "[encoded data removed]",
      "text/plain": [
       "<Figure size 432x288 with 1 Axes>"
      ]
     },
     "metadata": {
      "needs_background": "light"
     },
     "output_type": "display_data"
    }
   ],
   "source": [
    "err_spar = 1- 0.6574175053403768\n",
    "rates5 = np.array([1.285, 0.985, 0.875, 0.9099999999999999, 0.8049999999999999, 0.675])\n",
    "rates5 -= 1\n",
    "\n",
    "plt.bar([0],[err_spar],color='lightblue')\n",
    "plt.bar(np.arange(5,35,5),rates5)\n",
    "\n",
    "plt.plot(np.arange(35),[0]*35, color='black')\n",
    "plt.show()"
   ]
  },
  {
   "cell_type": "markdown",
   "metadata": {},
   "source": [
    "<h2>Success Rates</h2>"
   ]
  },
  {
   "cell_type": "code",
   "execution_count": 78,
   "metadata": {},
   "outputs": [
    {
     "data": {
      "image/png": "[encoded data removed]",
      "text/plain": [
       "<Figure size 432x288 with 1 Axes>"
      ]
     },
     "metadata": {
      "needs_background": "light"
     },
     "output_type": "display_data"
    },
    {
     "data": {
      "image/png": "[encoded data removed]",
      "text/plain": [
       "<Figure size 432x288 with 1 Axes>"
      ]
     },
     "metadata": {
      "needs_background": "light"
     },
     "output_type": "display_data"
    }
   ],
   "source": [
    "#Success rate comparison\n",
    "result_classical_NN = 0.36\n",
    "results_quant_NN = np.array([0, 4, 1, 1, 0, 0, 0, 0])/10\n",
    "plt.bar([0],[result_classical_NN],color='lightblue')\n",
    "plt.bar(np.arange(5,45,5),results_quant_NN)\n",
    "plt.show()\n",
    "\n",
    "results_quant_quad = np.array([1, 5, 7, 6, 3, 0, 1, 1])/10\n",
    "plt.bar([0],[result_classical_NN],color='lightblue')\n",
    "plt.bar(np.arange(5,45,5),results_quant_quad)\n",
    "plt.show()"
   ]
  },
  {
   "cell_type": "markdown",
   "metadata": {},
   "source": [
    "---------------------------------------------------------------------------"
   ]
  },
  {
   "cell_type": "code",
   "execution_count": 19,
   "metadata": {},
   "outputs": [
    {
     "data": {
      "image/png": "[encoded data removed]",
      "text/plain": [
       "<Figure size 432x288 with 1 Axes>"
      ]
     },
     "metadata": {
      "needs_background": "light"
     },
     "output_type": "display_data"
    }
   ],
   "source": [
    "#NN 6qubits 3 picks ---After fix\n",
    "results9 = [3, 3, 4, 4, 5, 4, 2, 6, 4, 6, 3, 4, 6, 8,5, 5, 5, 5, 5, 2]\n",
    "plt.bar(np.arange(5,105,5),results9)\n",
    "plt.show()"
   ]
  },
  {
   "cell_type": "code",
   "execution_count": 17,
   "metadata": {},
   "outputs": [
    {
     "data": {
      "image/png": "[encoded data removed]",
      "text/plain": [
       "<Figure size 432x288 with 1 Axes>"
      ]
     },
     "metadata": {
      "needs_background": "light"
     },
     "output_type": "display_data"
    }
   ],
   "source": [
    "#Random pairs 9 --> fixed\n",
    "results4 = [2, 3, 1, 3, 4, 3, 1, 2, 4, 2, 6, 5, 2, 5]\n",
    "plt.bar(train_params,results4)\n",
    "plt.show()"
   ]
  },
  {
   "cell_type": "code",
   "execution_count": 32,
   "metadata": {},
   "outputs": [
    {
     "data": {
      "image/png": "[encoded data removed]",
      "text/plain": [
       "<Figure size 432x288 with 1 Axes>"
      ]
     },
     "metadata": {
      "needs_background": "light"
     },
     "output_type": "display_data"
    }
   ],
   "source": [
    "#Random pairs 18 --> fixed\n",
    "results4 = [2, 2, 3, 3, 2, 2, 5, 3, 2, 2, 5, 3, 3, 3]\n",
    "plt.bar(train_params,results4)\n",
    "plt.show()"
   ]
  },
  {
   "cell_type": "code",
   "execution_count": 15,
   "metadata": {},
   "outputs": [
    {
     "data": {
      "image/png": "[encoded data removed]",
      "text/plain": [
       "<Figure size 432x288 with 1 Axes>"
      ]
     },
     "metadata": {
      "needs_background": "light"
     },
     "output_type": "display_data"
    }
   ],
   "source": [
    "#All possible pairs --> fixed\n",
    "results1 = [2, 5, 2, 6, 6, 5, 5, 4, 6, 5, 4, 5, 6, 6]\n",
    "plt.bar(train_params,results1)\n",
    "plt.show()"
   ]
  },
  {
   "cell_type": "code",
   "execution_count": 18,
   "metadata": {},
   "outputs": [
    {
     "data": {
      "image/png": "[encoded data removed]",
      "text/plain": [
       "<Figure size 432x288 with 1 Axes>"
      ]
     },
     "metadata": {
      "needs_background": "light"
     },
     "output_type": "display_data"
    }
   ],
   "source": [
    "#Triplet NN --> fixed\n",
    "results8 = [6, 5, 5, 6, 5, 8, 8, 5, 9, 6, 8, 8, 7, 7]\n",
    "plt.bar(train_params,results8)\n",
    "plt.show()"
   ]
  },
  {
   "cell_type": "code",
   "execution_count": 15,
   "metadata": {},
   "outputs": [
    {
     "data": {
      "image/png": "[encoded data removed]",
      "text/plain": [
       "<Figure size 432x288 with 1 Axes>"
      ]
     },
     "metadata": {
      "needs_background": "light"
     },
     "output_type": "display_data"
    }
   ],
   "source": [
    "#Random Triplet 9 --> fixed\n",
    "results3 = [4, 3, 3, 6, 7, 6, 7, 6, 7, 4, 6, 4, 6, 8]\n",
    "plt.bar(train_params,results3)\n",
    "plt.show()"
   ]
  },
  {
   "cell_type": "code",
   "execution_count": 15,
   "metadata": {},
   "outputs": [
    {
     "data": {
      "image/png": "[encoded data removed]",
      "text/plain": [
       "<Figure size 432x288 with 1 Axes>"
      ]
     },
     "metadata": {
      "needs_background": "light"
     },
     "output_type": "display_data"
    }
   ],
   "source": [
    "#Random Quadruplet 9 -->fixed\n",
    "results6 = [5, 5, 7, 8, 7, 8, 8, 8, 9, 10, 9, 10, 10, 10]\n",
    "plt.bar(train_params,results6)\n",
    "plt.show()"
   ]
  }
 ],
 "metadata": {
  "kernelspec": {
   "display_name": "Python 3",
   "language": "python",
   "name": "python3"
  },
  "language_info": {
   "codemirror_mode": {
    "name": "ipython",
    "version": 3
   },
   "file_extension": ".py",
   "mimetype": "text/x-python",
   "name": "python",
   "nbconvert_exporter": "python",
   "pygments_lexer": "ipython3",
   "version": "3.12.3"
  },
  "orig_nbformat": 4,
  "vscode": {
   "interpreter": {
    "hash": "916dbcbb3f70747c44a77c7bcd40155683ae19c65e1c03b4aa3499c5328201f1"
   }
  }
 },
 "nbformat": 4,
 "nbformat_minor": 2
}
