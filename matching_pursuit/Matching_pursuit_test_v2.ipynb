{
 "cells": [
  {
   "cell_type": "code",
   "execution_count": 1,
   "metadata": {},
   "outputs": [],
   "source": [
    "import numpy as np\n",
    "from qiskit.quantum_info.operators.symplectic import SparsePauliOp\n",
    "import matplotlib.pyplot as plt\n",
    "from qiskit import QuantumCircuit, ClassicalRegister, QuantumRegister\n",
    "from qiskit import Aer, execute\n",
    "from qiskit.circuit import Parameter\n",
    "from scipy.optimize import minimize\n",
    "from qiskit.visualization import plot_histogram\n",
    "from bitstring import BitArray"
   ]
  },
  {
   "cell_type": "code",
   "execution_count": 2,
   "metadata": {},
   "outputs": [],
   "source": [
    "def bin_to_pattern(x):\n",
    "    return [ [1-int(i), int(i)] for i in x ]"
   ]
  },
  {
   "cell_type": "code",
   "execution_count": 3,
   "metadata": {},
   "outputs": [],
   "source": [
    "def all_config(size):\n",
    "    all_pat = []\n",
    "    for i in range(size-1):\n",
    "        for j in range(size-1-i):\n",
    "            for v1 in range(2):\n",
    "                for v2 in range(2):\n",
    "                    all_pat.append( [[1,1]]*i + bin_to_pattern(str(v1)) + [[1,1]]*j + bin_to_pattern(str(v2)) + [[1,1]]*(size-i-j-2))\n",
    "    return all_pat"
   ]
  },
  {
   "cell_type": "code",
   "execution_count": 4,
   "metadata": {},
   "outputs": [],
   "source": [
    "def create_specific_patterns(mode1,mode2,size):\n",
    "    pats =[]\n",
    "    for i in range(2):\n",
    "        for j in range(2):\n",
    "            pats.append( [[1,1]]*mode1 + bin_to_pattern(str(i)) + [[1,1]]*(mode2-mode1-1) + bin_to_pattern(str(j)) + [[1,1]]*(size-mode1-(mode2-mode1-1)-2) )\n",
    "    return pats"
   ]
  },
  {
   "cell_type": "code",
   "execution_count": 5,
   "metadata": {},
   "outputs": [],
   "source": [
    "def create_specific_patterns3(mode1,mode2,mode3,size):\n",
    "    pats =[]\n",
    "    for i in range(2):\n",
    "        for j in range(2):\n",
    "            for k in range(2):\n",
    "                pats.append( [[1,1]]*mode1 + bin_to_pattern(str(i)) + [[1,1]]*(mode2-mode1-1) + bin_to_pattern(str(j)) + [[1,1]]*(mode3-(mode2-mode1-1)-mode1-2) + bin_to_pattern(str(k)) + [[1,1]]*(size -mode1-(mode2-mode1-1)-(mode3-(mode2-mode1-1)-mode1-2)-3) )\n",
    "    return pats"
   ]
  },
  {
   "cell_type": "code",
   "execution_count": 6,
   "metadata": {},
   "outputs": [],
   "source": [
    "def overlapp(x,measurement):\n",
    "    return np.prod( [np.dot(p1,p2) for p1,p2 in zip(x,measurement)] )"
   ]
  },
  {
   "cell_type": "code",
   "execution_count": 7,
   "metadata": {},
   "outputs": [],
   "source": [
    "def dev_pattern(pat):\n",
    "    f = np.array([1])\n",
    "    for i in pat:\n",
    "        f = np.kron(f,i)\n",
    "    return f"
   ]
  },
  {
   "cell_type": "code",
   "execution_count": 8,
   "metadata": {},
   "outputs": [],
   "source": [
    "def decomposition(mat):\n",
    "    a,b,c,d = mat[0],mat[1],mat[2],mat[3]\n",
    "    return 1/4 * np.array( [a+b+c+d, a+b-c-d, a-b+c-d, a-b-c+d] )"
   ]
  },
  {
   "cell_type": "code",
   "execution_count": 92,
   "metadata": {},
   "outputs": [
    {
     "name": "stdout",
     "output_type": "stream",
     "text": [
      "IIIIII 200.375\n",
      "IIIIZI 45.375\n",
      "IIIIIZ 28.125\n",
      "IIIIZZ -15.75\n",
      "IIZIII -22.5\n",
      "IIZIZI 7.875\n",
      "IIZIIZ -85.875\n",
      "IIZIZZ -15.125\n",
      "IIIZII 16.875\n",
      "IIIZZI 0.0\n",
      "IIIZIZ 57.25\n",
      "IIIZZZ 0.0\n",
      "IIZZII -57.25\n",
      "IIZZZI 0.0\n",
      "IIZZIZ -5.625\n",
      "IIZZZZ 0.0\n",
      "ZIIIII 114.5\n",
      "ZIIIZI 15.125\n",
      "ZIIIIZ 11.25\n",
      "ZIIIZZ 0.0\n",
      "ZIZIII -11.25\n",
      "ZIZIZI 0.0\n",
      "ZIZIIZ -28.625\n",
      "ZIZIZZ 0.0\n",
      "ZIIZII 11.25\n",
      "ZIIZZI 0.0\n",
      "ZIIZIZ 28.625\n",
      "ZIIZZZ 0.0\n",
      "ZIZZII -28.625\n",
      "ZIZZZI 0.0\n",
      "ZIZZIZ 0.0\n",
      "ZIZZZZ 0.0\n",
      "IZIIII 30.25\n",
      "IZIIZI 57.25\n",
      "IZIIIZ -7.875\n",
      "IZIIZZ 5.625\n",
      "IZZIII 0.0\n",
      "IZZIZI 0.0\n",
      "IZZIIZ 0.0\n",
      "IZZIZZ 0.0\n",
      "IZIZII 0.0\n",
      "IZIZZI 0.0\n",
      "IZIZIZ 0.0\n",
      "IZIZZZ 0.0\n",
      "IZZZII 0.0\n",
      "IZZZZI 0.0\n",
      "IZZZIZ 0.0\n",
      "IZZZZZ 0.0\n",
      "ZZIIII 15.125\n",
      "ZZIIZI 28.625\n",
      "ZZIIIZ 0.0\n",
      "ZZIIZZ 0.0\n",
      "ZZZIII 0.0\n",
      "ZZZIZI 0.0\n",
      "ZZZIIZ 0.0\n",
      "ZZZIZZ 0.0\n",
      "ZZIZII 0.0\n",
      "ZZIZZI 0.0\n",
      "ZZIZIZ 0.0\n",
      "ZZIZZZ 0.0\n",
      "ZZZZII 0.0\n",
      "ZZZZZI 0.0\n",
      "ZZZZIZ 0.0\n",
      "ZZZZZZ 0.0\n"
     ]
    }
   ],
   "source": [
    "def compute_hamiltonian(all_pat,y):\n",
    "\n",
    "    H_ops = []\n",
    "\n",
    "    for p,yi in zip(all_pat,y):\n",
    "\n",
    "        if yi==0:\n",
    "            continue\n",
    "        \n",
    "        ops = []\n",
    "        for i in range(0,len(p),2):\n",
    "            coefs = decomposition(dev_pattern([p[i],p[i+1]]))\n",
    "            ops.append(SparsePauliOp([\"II\",\"ZI\",\"IZ\",\"ZZ\"],coefs))\n",
    "        op = ops[0]\n",
    "        for i in range(1,len(ops)):\n",
    "            op = op.tensor(ops[i])\n",
    "        H_ops.append(op * yi[0])\n",
    "\n",
    "    #Recover coeffs of H\n",
    "    H = np.sum(np.array([ np.real(op.coeffs) for op in H_ops ]).reshape(-1,len(H_ops[0].coeffs)),axis=0)\n",
    "\n",
    "    return H,H_ops[0].paulis\n",
    "\n",
    "H,paulis_idx = compute_hamiltonian(all_pat,y)\n",
    "for pstring,coef in zip(paulis_idx,H):\n",
    "    print(pstring,coef)"
   ]
  },
  {
   "cell_type": "code",
   "execution_count": 10,
   "metadata": {},
   "outputs": [],
   "source": [
    "def paulis_to_gates(pauli_string):\n",
    "    return [i for i,s in enumerate(pauli_string) if s=='Z']"
   ]
  },
  {
   "cell_type": "code",
   "execution_count": 11,
   "metadata": {},
   "outputs": [],
   "source": [
    "def obj_func(z):\n",
    "    v = BitArray(bin='0'+z).int\n",
    "    return (A.T[v] * y)[0,0]\n",
    "\n",
    "\n",
    "def compute_expectation(counts):\n",
    "        \n",
    "    avg = 0\n",
    "    sum_count = 0\n",
    "    for bitstring, count in counts.items():\n",
    "        obj = -obj_func(bitstring)\n",
    "        avg += obj * count\n",
    "        sum_count += count\n",
    "        \n",
    "    return avg/sum_count\n",
    "\n",
    "def create_qaoa_circ(theta,paulis_idx,H):\n",
    "\n",
    "    nqubits = N\n",
    "    p = len(theta)//2  # number of alternating unitaries\n",
    "    qc = QuantumCircuit(nqubits)\n",
    "    \n",
    "    beta = theta[:p]\n",
    "    gamma = theta[p:]\n",
    "    \n",
    "    # initial_state\n",
    "    for i in range(0, nqubits):\n",
    "        qc.h(i)\n",
    "    \n",
    "    for irep in range(0, p):\n",
    "        \n",
    "        for i in range(0, nqubits):\n",
    "            qc.rx(2 * beta[irep], i)\n",
    "\n",
    "        for pstring,coef in zip(paulis_idx,H):\n",
    "            if coef!=0:\n",
    "                idx = paulis_to_gates(str(pstring))\n",
    "                if len(idx)==1:\n",
    "                    qc.rz(2*gamma[irep]*coef,idx[0])\n",
    "                if len(idx)==2:\n",
    "                    qc.rzz(2*gamma[irep]*coef,idx[0],idx[1])\n",
    "                if len(idx)==3:\n",
    "                    qc.cnot(idx[0],idx[1])\n",
    "                    qc.cnot(idx[1],idx[2])\n",
    "                    qc.rz(2*gamma[irep]*coef,idx[2])\n",
    "                    qc.cnot(idx[1],idx[2])\n",
    "                    qc.cnot(idx[0],idx[1])\n",
    "\n",
    "    qc.measure_all()\n",
    "        \n",
    "    return qc\n",
    "\n",
    "# Finally we write a function that executes the circuit on the chosen backend\n",
    "def get_expectation(shots=512):\n",
    "    \n",
    "    backend = Aer.get_backend('qasm_simulator')\n",
    "    backend.shots = shots\n",
    "    \n",
    "    def execute_circ(theta):\n",
    "        \n",
    "        qc = create_qaoa_circ(theta,paulis_idx,H)\n",
    "        counts = backend.run(qc, seed_simulator=10, \n",
    "                             nshots=512).result().get_counts()\n",
    "        \n",
    "        return compute_expectation(counts)\n",
    "    \n",
    "    return execute_circ"
   ]
  },
  {
   "cell_type": "code",
   "execution_count": 12,
   "metadata": {},
   "outputs": [
    {
     "name": "stdout",
     "output_type": "stream",
     "text": [
      "6\n",
      "[5, 8, 26]\n"
     ]
    },
    {
     "data": {
      "image/png": "[encoded data removed]",
      "text/plain": [
       "<Figure size 432x288 with 1 Axes>"
      ]
     },
     "metadata": {
      "needs_background": "light"
     },
     "output_type": "display_data"
    }
   ],
   "source": [
    "m = 3                       #Number of modes\n",
    "a = 3                       #Number of possible values\n",
    "N = int(np.log2(a**m))+1 if (int(np.log2(a**m))+1)%2 == 0 else int(np.log2(a**m))+2    #Number of qubits for encoding\n",
    "\n",
    "s = 3                       #Sparsity\n",
    "\n",
    "print(N)\n",
    "#Random sparse spectrum\n",
    "spec = np.arange(a**m)\n",
    "np.random.shuffle(spec)\n",
    "spec = list(spec[:s])\n",
    "spec.sort()\n",
    "spec_val = np.random.randint(50,100,s)\n",
    "bin_spec = []\n",
    "\n",
    "for x in spec:\n",
    "    bin_x = \"{0:b}\".format(x)\n",
    "    bin_spec.append('0'*(N-len(bin_x)) + bin_x)\n",
    "\n",
    "x = [spec_val[spec.index(i)] if (i in spec) else 0 for i in range(a**m)]\n",
    "plt.bar(range(a**m),x)\n",
    "plt.plot()\n",
    "print(spec)"
   ]
  },
  {
   "cell_type": "code",
   "execution_count": 13,
   "metadata": {},
   "outputs": [
    {
     "name": "stdout",
     "output_type": "stream",
     "text": [
      "56\n",
      "8\n",
      "(64, 1)\n",
      "[[395.]\n",
      " [451.]\n",
      " [137.]\n",
      " [ 92.]\n",
      " [350.]\n",
      " [727.]\n",
      " [ 92.]\n",
      " [368.]\n",
      " [889.]\n",
      " [404.]\n",
      " [602.]\n",
      " [137.]\n",
      " [478.]\n",
      " [359.]\n",
      " [191.]\n",
      " [ 92.]\n",
      " [137.]\n",
      " [184.]\n",
      " [245.]\n",
      " [146.]\n",
      " [ 92.]\n",
      " [460.]\n",
      " [200.]\n",
      " [422.]\n",
      " [631.]\n",
      " [137.]\n",
      " [710.]\n",
      " [191.]\n",
      " [220.]\n",
      " [ 92.]\n",
      " [299.]\n",
      " [146.]\n",
      " [ 83.]\n",
      " [184.]\n",
      " [  0.]\n",
      " [  0.]\n",
      " [ 83.]\n",
      " [276.]\n",
      " [  0.]\n",
      " [ 92.]\n",
      " [303.]\n",
      " [ 92.]\n",
      " [191.]\n",
      " [  0.]\n",
      " [166.]\n",
      " [ 92.]\n",
      " [ 54.]\n",
      " [  0.]\n",
      " [  0.]\n",
      " [ 92.]\n",
      " [ 54.]\n",
      " [  0.]\n",
      " [  0.]\n",
      " [184.]\n",
      " [ 54.]\n",
      " [ 92.]\n",
      " [220.]\n",
      " [  0.]\n",
      " [245.]\n",
      " [  0.]\n",
      " [ 83.]\n",
      " [  0.]\n",
      " [108.]\n",
      " [  0.]]\n"
     ]
    }
   ],
   "source": [
    "pat_spec = [bin_to_pattern(bin_x) for bin_x in bin_spec] \n",
    "# all_pat = create_specific_patterns3(0,1,2,N)+create_specific_patterns3(0,1,3,N) + create_specific_patterns3(0,1,4,N) + create_specific_patterns3(0,1,5,N) + create_specific_patterns3(1,2,3,N) + create_specific_patterns3(1,2,5,N) + create_specific_patterns3(2,4,5,N)\n",
    "# all_pat = create_specific_patterns(0,2,N) + create_specific_patterns(0,3,N) + create_specific_patterns(1,3,N)\n",
    "\n",
    "l = np.arange(0,N)\n",
    "np.random.shuffle(l)\n",
    "r = l[0:3]\n",
    "r.sort()\n",
    "all_pat = create_specific_patterns3(r[0],r[1],r[2],N)\n",
    "for i in range(6):\n",
    "    np.random.shuffle(l)\n",
    "    r = l[0:3]\n",
    "    r.sort()\n",
    "    all_pat += create_specific_patterns3(r[0],r[1],r[2],N)\n",
    "\n",
    "print(len(all_pat))\n",
    "\n",
    "y = np.zeros((len(all_pat),1))\n",
    "for pat,val in zip(pat_spec,spec_val):\n",
    "    y += np.matrix([overlapp(pat,p)*val for p in all_pat]).T\n",
    "\n",
    "A = np.matrix([ dev_pattern(p) for p in all_pat])\n",
    "\n",
    "print( np.argmax(A.T * y))\n",
    "print( (A.T*y).shape)\n",
    "print((A.T*y))"
   ]
  },
  {
   "cell_type": "code",
   "execution_count": 58,
   "metadata": {},
   "outputs": [
    {
     "data": {
      "text/plain": [
       "[]"
      ]
     },
     "execution_count": 58,
     "metadata": {},
     "output_type": "execute_result"
    },
    {
     "data": {
      "image/png": "[encoded data removed]",
      "text/plain": [
       "<Figure size 432x288 with 1 Axes>"
      ]
     },
     "metadata": {
      "needs_background": "light"
     },
     "output_type": "display_data"
    }
   ],
   "source": [
    "import copy\n",
    "def matching_pursuit(y,A):\n",
    "\n",
    "    x_recov = np.zeros((2**N,1))\n",
    "    r = copy.deepcopy(y)\n",
    "\n",
    "    for i in range(10):\n",
    "\n",
    "        v = np.argmax(A.T * r)\n",
    "        # print(v)\n",
    "\n",
    "        x_recov[v] = A.T[v]*r\n",
    "        r -= (0.05*((A.T[v]*r)[0,0]) * A.T[v]).T\n",
    "\n",
    "    return x_recov\n",
    "x_recov = matching_pursuit(y,A)\n",
    "x_recov = list(x_recov.T[0])[:a**m]\n",
    "plt.bar(range(a**m),x_recov)\n",
    "plt.plot()"
   ]
  },
  {
   "cell_type": "code",
   "execution_count": 59,
   "metadata": {},
   "outputs": [
    {
     "name": "stdout",
     "output_type": "stream",
     "text": [
      "25\n",
      "27\n"
     ]
    },
    {
     "name": "stderr",
     "output_type": "stream",
     "text": [
      "capi_return is NULL\n",
      "Call-back cb_calcfc_in__cobyla__user__routines failed.\n"
     ]
    },
    {
     "ename": "KeyboardInterrupt",
     "evalue": "",
     "output_type": "error",
     "traceback": [
      "\u001b[0;31m---------------------------------------------------------------------------\u001b[0m",
      "\u001b[0;31mKeyboardInterrupt\u001b[0m                         Traceback (most recent call last)",
      "\u001b[0;32m/tmp/ipykernel_83141/3827617860.py\u001b[0m in \u001b[0;36m<module>\u001b[0;34m\u001b[0m\n\u001b[1;32m      7\u001b[0m     \u001b[0mexpectation\u001b[0m \u001b[0;34m=\u001b[0m \u001b[0mget_expectation\u001b[0m\u001b[0;34m(\u001b[0m\u001b[0;34m)\u001b[0m\u001b[0;34m\u001b[0m\u001b[0;34m\u001b[0m\u001b[0m\n\u001b[1;32m      8\u001b[0m \u001b[0;34m\u001b[0m\u001b[0m\n\u001b[0;32m----> 9\u001b[0;31m     res = minimize(expectation, \n\u001b[0m\u001b[1;32m     10\u001b[0m                         \u001b[0mnp\u001b[0m\u001b[0;34m.\u001b[0m\u001b[0mones\u001b[0m\u001b[0;34m(\u001b[0m\u001b[0;36m10\u001b[0m\u001b[0;34m)\u001b[0m\u001b[0;34m,\u001b[0m\u001b[0;34m\u001b[0m\u001b[0;34m\u001b[0m\u001b[0m\n\u001b[1;32m     11\u001b[0m                         method='COBYLA')\n",
      "\u001b[0;32m/usr/lib/python3/dist-packages/scipy/optimize/_minimize.py\u001b[0m in \u001b[0;36mminimize\u001b[0;34m(fun, x0, args, method, jac, hess, hessp, bounds, constraints, tol, callback, options)\u001b[0m\n\u001b[1;32m    685\u001b[0m                             **options)\n\u001b[1;32m    686\u001b[0m     \u001b[0;32melif\u001b[0m \u001b[0mmeth\u001b[0m \u001b[0;34m==\u001b[0m \u001b[0;34m'cobyla'\u001b[0m\u001b[0;34m:\u001b[0m\u001b[0;34m\u001b[0m\u001b[0;34m\u001b[0m\u001b[0m\n\u001b[0;32m--> 687\u001b[0;31m         res = _minimize_cobyla(fun, x0, args, constraints, callback=callback,\n\u001b[0m\u001b[1;32m    688\u001b[0m                                 **options)\n\u001b[1;32m    689\u001b[0m     \u001b[0;32melif\u001b[0m \u001b[0mmeth\u001b[0m \u001b[0;34m==\u001b[0m \u001b[0;34m'slsqp'\u001b[0m\u001b[0;34m:\u001b[0m\u001b[0;34m\u001b[0m\u001b[0;34m\u001b[0m\u001b[0m\n",
      "\u001b[0;32m/usr/lib/python3/dist-packages/scipy/optimize/_cobyla_py.py\u001b[0m in \u001b[0;36mwrapper\u001b[0;34m(*args, **kwargs)\u001b[0m\n\u001b[1;32m     32\u001b[0m     \u001b[0;32mdef\u001b[0m \u001b[0mwrapper\u001b[0m\u001b[0;34m(\u001b[0m\u001b[0;34m*\u001b[0m\u001b[0margs\u001b[0m\u001b[0;34m,\u001b[0m \u001b[0;34m**\u001b[0m\u001b[0mkwargs\u001b[0m\u001b[0;34m)\u001b[0m\u001b[0;34m:\u001b[0m\u001b[0;34m\u001b[0m\u001b[0;34m\u001b[0m\u001b[0m\n\u001b[1;32m     33\u001b[0m         \u001b[0;32mwith\u001b[0m \u001b[0m_module_lock\u001b[0m\u001b[0;34m:\u001b[0m\u001b[0;34m\u001b[0m\u001b[0;34m\u001b[0m\u001b[0m\n\u001b[0;32m---> 34\u001b[0;31m             \u001b[0;32mreturn\u001b[0m \u001b[0mfunc\u001b[0m\u001b[0;34m(\u001b[0m\u001b[0;34m*\u001b[0m\u001b[0margs\u001b[0m\u001b[0;34m,\u001b[0m \u001b[0;34m**\u001b[0m\u001b[0mkwargs\u001b[0m\u001b[0;34m)\u001b[0m\u001b[0;34m\u001b[0m\u001b[0;34m\u001b[0m\u001b[0m\n\u001b[0m\u001b[1;32m     35\u001b[0m     \u001b[0;32mreturn\u001b[0m \u001b[0mwrapper\u001b[0m\u001b[0;34m\u001b[0m\u001b[0;34m\u001b[0m\u001b[0m\n\u001b[1;32m     36\u001b[0m \u001b[0;34m\u001b[0m\u001b[0m\n",
      "\u001b[0;32m/usr/lib/python3/dist-packages/scipy/optimize/_cobyla_py.py\u001b[0m in \u001b[0;36m_minimize_cobyla\u001b[0;34m(fun, x0, args, constraints, rhobeg, tol, maxiter, disp, catol, callback, **unknown_options)\u001b[0m\n\u001b[1;32m    271\u001b[0m \u001b[0;34m\u001b[0m\u001b[0m\n\u001b[1;32m    272\u001b[0m     \u001b[0minfo\u001b[0m \u001b[0;34m=\u001b[0m \u001b[0mnp\u001b[0m\u001b[0;34m.\u001b[0m\u001b[0mzeros\u001b[0m\u001b[0;34m(\u001b[0m\u001b[0;36m4\u001b[0m\u001b[0;34m,\u001b[0m \u001b[0mnp\u001b[0m\u001b[0;34m.\u001b[0m\u001b[0mfloat64\u001b[0m\u001b[0;34m)\u001b[0m\u001b[0;34m\u001b[0m\u001b[0;34m\u001b[0m\u001b[0m\n\u001b[0;32m--> 273\u001b[0;31m     xopt, info = cobyla.minimize(calcfc, m=m, x=np.copy(x0), rhobeg=rhobeg,\n\u001b[0m\u001b[1;32m    274\u001b[0m                                   \u001b[0mrhoend\u001b[0m\u001b[0;34m=\u001b[0m\u001b[0mrhoend\u001b[0m\u001b[0;34m,\u001b[0m \u001b[0miprint\u001b[0m\u001b[0;34m=\u001b[0m\u001b[0miprint\u001b[0m\u001b[0;34m,\u001b[0m \u001b[0mmaxfun\u001b[0m\u001b[0;34m=\u001b[0m\u001b[0mmaxfun\u001b[0m\u001b[0;34m,\u001b[0m\u001b[0;34m\u001b[0m\u001b[0;34m\u001b[0m\u001b[0m\n\u001b[1;32m    275\u001b[0m                                   dinfo=info, callback=wrapped_callback)\n",
      "\u001b[0;32m/usr/lib/python3/dist-packages/scipy/optimize/_cobyla_py.py\u001b[0m in \u001b[0;36mcalcfc\u001b[0;34m(x, con)\u001b[0m\n\u001b[1;32m    259\u001b[0m \u001b[0;34m\u001b[0m\u001b[0m\n\u001b[1;32m    260\u001b[0m     \u001b[0;32mdef\u001b[0m \u001b[0mcalcfc\u001b[0m\u001b[0;34m(\u001b[0m\u001b[0mx\u001b[0m\u001b[0;34m,\u001b[0m \u001b[0mcon\u001b[0m\u001b[0;34m)\u001b[0m\u001b[0;34m:\u001b[0m\u001b[0;34m\u001b[0m\u001b[0;34m\u001b[0m\u001b[0m\n\u001b[0;32m--> 261\u001b[0;31m         \u001b[0mf\u001b[0m \u001b[0;34m=\u001b[0m \u001b[0mfun\u001b[0m\u001b[0;34m(\u001b[0m\u001b[0mnp\u001b[0m\u001b[0;34m.\u001b[0m\u001b[0mcopy\u001b[0m\u001b[0;34m(\u001b[0m\u001b[0mx\u001b[0m\u001b[0;34m)\u001b[0m\u001b[0;34m,\u001b[0m \u001b[0;34m*\u001b[0m\u001b[0margs\u001b[0m\u001b[0;34m)\u001b[0m\u001b[0;34m\u001b[0m\u001b[0;34m\u001b[0m\u001b[0m\n\u001b[0m\u001b[1;32m    262\u001b[0m         \u001b[0mi\u001b[0m \u001b[0;34m=\u001b[0m \u001b[0;36m0\u001b[0m\u001b[0;34m\u001b[0m\u001b[0;34m\u001b[0m\u001b[0m\n\u001b[1;32m    263\u001b[0m         \u001b[0;32mfor\u001b[0m \u001b[0msize\u001b[0m\u001b[0;34m,\u001b[0m \u001b[0mc\u001b[0m \u001b[0;32min\u001b[0m \u001b[0mizip\u001b[0m\u001b[0;34m(\u001b[0m\u001b[0mcons_lengths\u001b[0m\u001b[0;34m,\u001b[0m \u001b[0mconstraints\u001b[0m\u001b[0;34m)\u001b[0m\u001b[0;34m:\u001b[0m\u001b[0;34m\u001b[0m\u001b[0;34m\u001b[0m\u001b[0m\n",
      "\u001b[0;32m/tmp/ipykernel_83141/329544968.py\u001b[0m in \u001b[0;36mexecute_circ\u001b[0;34m(theta)\u001b[0m\n\u001b[1;32m     59\u001b[0m     \u001b[0;32mdef\u001b[0m \u001b[0mexecute_circ\u001b[0m\u001b[0;34m(\u001b[0m\u001b[0mtheta\u001b[0m\u001b[0;34m)\u001b[0m\u001b[0;34m:\u001b[0m\u001b[0;34m\u001b[0m\u001b[0;34m\u001b[0m\u001b[0m\n\u001b[1;32m     60\u001b[0m \u001b[0;34m\u001b[0m\u001b[0m\n\u001b[0;32m---> 61\u001b[0;31m         \u001b[0mqc\u001b[0m \u001b[0;34m=\u001b[0m \u001b[0mcreate_qaoa_circ\u001b[0m\u001b[0;34m(\u001b[0m\u001b[0mtheta\u001b[0m\u001b[0;34m,\u001b[0m\u001b[0mpaulis_idx\u001b[0m\u001b[0;34m,\u001b[0m\u001b[0mH\u001b[0m\u001b[0;34m)\u001b[0m\u001b[0;34m\u001b[0m\u001b[0;34m\u001b[0m\u001b[0m\n\u001b[0m\u001b[1;32m     62\u001b[0m         counts = backend.run(qc, seed_simulator=10, \n\u001b[1;32m     63\u001b[0m                              nshots=512).result().get_counts()\n",
      "\u001b[0;32m/tmp/ipykernel_83141/329544968.py\u001b[0m in \u001b[0;36mcreate_qaoa_circ\u001b[0;34m(theta, paulis_idx, H)\u001b[0m\n\u001b[1;32m     35\u001b[0m         \u001b[0;32mfor\u001b[0m \u001b[0mpstring\u001b[0m\u001b[0;34m,\u001b[0m\u001b[0mcoef\u001b[0m \u001b[0;32min\u001b[0m \u001b[0mzip\u001b[0m\u001b[0;34m(\u001b[0m\u001b[0mpaulis_idx\u001b[0m\u001b[0;34m,\u001b[0m\u001b[0mH\u001b[0m\u001b[0;34m)\u001b[0m\u001b[0;34m:\u001b[0m\u001b[0;34m\u001b[0m\u001b[0;34m\u001b[0m\u001b[0m\n\u001b[1;32m     36\u001b[0m             \u001b[0;32mif\u001b[0m \u001b[0mcoef\u001b[0m\u001b[0;34m!=\u001b[0m\u001b[0;36m0\u001b[0m\u001b[0;34m:\u001b[0m\u001b[0;34m\u001b[0m\u001b[0;34m\u001b[0m\u001b[0m\n\u001b[0;32m---> 37\u001b[0;31m                 \u001b[0midx\u001b[0m \u001b[0;34m=\u001b[0m \u001b[0mpaulis_to_gates\u001b[0m\u001b[0;34m(\u001b[0m\u001b[0mstr\u001b[0m\u001b[0;34m(\u001b[0m\u001b[0mpstring\u001b[0m\u001b[0;34m)\u001b[0m\u001b[0;34m)\u001b[0m\u001b[0;34m\u001b[0m\u001b[0;34m\u001b[0m\u001b[0m\n\u001b[0m\u001b[1;32m     38\u001b[0m                 \u001b[0;32mif\u001b[0m \u001b[0mlen\u001b[0m\u001b[0;34m(\u001b[0m\u001b[0midx\u001b[0m\u001b[0;34m)\u001b[0m\u001b[0;34m==\u001b[0m\u001b[0;36m1\u001b[0m\u001b[0;34m:\u001b[0m\u001b[0;34m\u001b[0m\u001b[0;34m\u001b[0m\u001b[0m\n\u001b[1;32m     39\u001b[0m                     \u001b[0mqc\u001b[0m\u001b[0;34m.\u001b[0m\u001b[0mrz\u001b[0m\u001b[0;34m(\u001b[0m\u001b[0;36m2\u001b[0m\u001b[0;34m*\u001b[0m\u001b[0mgamma\u001b[0m\u001b[0;34m[\u001b[0m\u001b[0mirep\u001b[0m\u001b[0;34m]\u001b[0m\u001b[0;34m*\u001b[0m\u001b[0mcoef\u001b[0m\u001b[0;34m,\u001b[0m\u001b[0midx\u001b[0m\u001b[0;34m[\u001b[0m\u001b[0;36m0\u001b[0m\u001b[0;34m]\u001b[0m\u001b[0;34m)\u001b[0m\u001b[0;34m\u001b[0m\u001b[0;34m\u001b[0m\u001b[0m\n",
      "\u001b[0;32m/tmp/ipykernel_83141/3556732388.py\u001b[0m in \u001b[0;36mpaulis_to_gates\u001b[0;34m(pauli_string)\u001b[0m\n\u001b[1;32m      1\u001b[0m \u001b[0;32mdef\u001b[0m \u001b[0mpaulis_to_gates\u001b[0m\u001b[0;34m(\u001b[0m\u001b[0mpauli_string\u001b[0m\u001b[0;34m)\u001b[0m\u001b[0;34m:\u001b[0m\u001b[0;34m\u001b[0m\u001b[0;34m\u001b[0m\u001b[0m\n\u001b[0;32m----> 2\u001b[0;31m     \u001b[0;32mreturn\u001b[0m \u001b[0;34m[\u001b[0m\u001b[0mi\u001b[0m \u001b[0;32mfor\u001b[0m \u001b[0mi\u001b[0m\u001b[0;34m,\u001b[0m\u001b[0ms\u001b[0m \u001b[0;32min\u001b[0m \u001b[0menumerate\u001b[0m\u001b[0;34m(\u001b[0m\u001b[0mpauli_string\u001b[0m\u001b[0;34m)\u001b[0m \u001b[0;32mif\u001b[0m \u001b[0ms\u001b[0m\u001b[0;34m==\u001b[0m\u001b[0;34m'Z'\u001b[0m\u001b[0;34m]\u001b[0m\u001b[0;34m\u001b[0m\u001b[0;34m\u001b[0m\u001b[0m\n\u001b[0m",
      "\u001b[0;32m/tmp/ipykernel_83141/3556732388.py\u001b[0m in \u001b[0;36m<listcomp>\u001b[0;34m(.0)\u001b[0m\n\u001b[1;32m      1\u001b[0m \u001b[0;32mdef\u001b[0m \u001b[0mpaulis_to_gates\u001b[0m\u001b[0;34m(\u001b[0m\u001b[0mpauli_string\u001b[0m\u001b[0;34m)\u001b[0m\u001b[0;34m:\u001b[0m\u001b[0;34m\u001b[0m\u001b[0;34m\u001b[0m\u001b[0m\n\u001b[0;32m----> 2\u001b[0;31m     \u001b[0;32mreturn\u001b[0m \u001b[0;34m[\u001b[0m\u001b[0mi\u001b[0m \u001b[0;32mfor\u001b[0m \u001b[0mi\u001b[0m\u001b[0;34m,\u001b[0m\u001b[0ms\u001b[0m \u001b[0;32min\u001b[0m \u001b[0menumerate\u001b[0m\u001b[0;34m(\u001b[0m\u001b[0mpauli_string\u001b[0m\u001b[0;34m)\u001b[0m \u001b[0;32mif\u001b[0m \u001b[0ms\u001b[0m\u001b[0;34m==\u001b[0m\u001b[0;34m'Z'\u001b[0m\u001b[0;34m]\u001b[0m\u001b[0;34m\u001b[0m\u001b[0;34m\u001b[0m\u001b[0m\n\u001b[0m",
      "\u001b[0;31mKeyboardInterrupt\u001b[0m: "
     ]
    }
   ],
   "source": [
    "x_recov = np.zeros((2**N,1))\n",
    "\n",
    "for i in range(5):\n",
    "\n",
    "    H, paulis_idx = compute_hamiltonian(all_pat,y)\n",
    "\n",
    "    expectation = get_expectation()\n",
    "\n",
    "    res = minimize(expectation, \n",
    "                        np.ones(70), \n",
    "                        method='COBYLA')\n",
    "    backend = Aer.get_backend('aer_simulator')\n",
    "    backend.shots = 512\n",
    "\n",
    "    qc_res = create_qaoa_circ(res.x,paulis_idx,H)\n",
    "    counts = backend.run(qc_res, seed_simulator=10).result().get_counts()\n",
    "\n",
    "    z = list(counts.keys())[np.argmax(list(counts.values()))]\n",
    "\n",
    "    v = BitArray(bin='0'+z).int\n",
    "\n",
    "    print(v)\n",
    "\n",
    "    x_recov[v] = A.T[v]*y\n",
    "    y -= (0.05*((A.T[v]*y)[0,0]) * A.T[v]).T\n",
    "\n",
    "x_recov = list(x_recov.T[0])[:a**m]\n",
    "plt.bar(range(a**m),x_recov)\n",
    "plt.plot()"
   ]
  }
 ],
 "metadata": {
  "kernelspec": {
   "display_name": "Python 3",
   "language": "python",
   "name": "python3"
  },
  "language_info": {
   "codemirror_mode": {
    "name": "ipython",
    "version": 3
   },
   "file_extension": ".py",
   "mimetype": "text/x-python",
   "name": "python",
   "nbconvert_exporter": "python",
   "pygments_lexer": "ipython3",
   "version": "3.10.6"
  },
  "orig_nbformat": 4,
  "vscode": {
   "interpreter": {
    "hash": "916dbcbb3f70747c44a77c7bcd40155683ae19c65e1c03b4aa3499c5328201f1"
   }
  }
 },
 "nbformat": 4,
 "nbformat_minor": 2
}
