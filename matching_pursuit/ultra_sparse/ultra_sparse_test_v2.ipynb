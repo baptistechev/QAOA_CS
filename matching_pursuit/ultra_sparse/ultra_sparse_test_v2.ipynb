{
 "cells": [
  {
   "cell_type": "code",
   "execution_count": 2,
   "metadata": {},
   "outputs": [
    {
     "name": "stdout",
     "output_type": "stream",
     "text": [
      "4\n",
      "0100\n"
     ]
    }
   ],
   "source": [
    "import numpy as np\n",
    "a = 3\n",
    "N = 4\n",
    "\n",
    "#0 3 5 6\n",
    "\n",
    "# x 0 1 2 3 4 5 6 7 8\n",
    "#\n",
    "#   0 0 0 1 1 1 2 2 2\n",
    "#   0 1 2 0 1 2 0 1 2\n",
    "#                 |\n",
    "#                 |\n",
    "\n",
    "\n",
    "# x = np.random.randint(9)\n",
    "x = 4\n",
    "bin_x = \"{0:b}\".format(x)\n",
    "bin_x = '0'*(N-len(bin_x)) + bin_x\n",
    "\n",
    "print(x)\n",
    "print(bin_x)"
   ]
  },
  {
   "cell_type": "code",
   "execution_count": 3,
   "metadata": {},
   "outputs": [],
   "source": [
    "def bin_to_pattern(x):\n",
    "    return [ [1-int(i), int(i)] for i in x ]"
   ]
  },
  {
   "cell_type": "code",
   "execution_count": 4,
   "metadata": {},
   "outputs": [],
   "source": [
    "def all_config(size):\n",
    "    all_pat = []\n",
    "    for i in range(size-1):\n",
    "        for j in range(size-1-i):\n",
    "            for v1 in range(2):\n",
    "                for v2 in range(2):\n",
    "                    all_pat.append( [[1,1]]*i + bin_to_pattern(str(v1)) + [[1,1]]*j + bin_to_pattern(str(v2)) + [[1,1]]*(size-i-j-2))\n",
    "    return all_pat"
   ]
  },
  {
   "cell_type": "code",
   "execution_count": 5,
   "metadata": {},
   "outputs": [],
   "source": [
    "def create_specific_patterns(mode1,mode2,size):\n",
    "    pats =[]\n",
    "    for i in range(2):\n",
    "        for j in range(2):\n",
    "            pats.append( [[1,1]]*mode1 + bin_to_pattern(str(i)) + [[1,1]]*(mode2-mode1-1) + bin_to_pattern(str(j)) + [[1,1]]*(size-mode1-(mode2-mode1-1)-2) )\n",
    "    return pats"
   ]
  },
  {
   "cell_type": "code",
   "execution_count": 6,
   "metadata": {},
   "outputs": [],
   "source": [
    "def overlapp(x,measurement):\n",
    "    return np.prod( [np.dot(p1,p2) for p1,p2 in zip(x,measurement)] )"
   ]
  },
  {
   "cell_type": "code",
   "execution_count": 7,
   "metadata": {},
   "outputs": [],
   "source": [
    "def dev_pattern(pat):\n",
    "    f = np.array([1])\n",
    "    for i in pat:\n",
    "        f = np.kron(f,i)\n",
    "    return f"
   ]
  },
  {
   "cell_type": "code",
   "execution_count": 8,
   "metadata": {},
   "outputs": [],
   "source": [
    "def decomposition(mat):\n",
    "    a,b,c,d = mat[0],mat[1],mat[2],mat[3]\n",
    "    return 1/4 * np.array( [a+b+c+d, a+b-c-d, a-b+c-d, a-b-c+d] )"
   ]
  },
  {
   "cell_type": "code",
   "execution_count": 9,
   "metadata": {},
   "outputs": [
    {
     "name": "stdout",
     "output_type": "stream",
     "text": [
      "20\n",
      "(20, 1)\n",
      "[[3]\n",
      " [2]\n",
      " [1]\n",
      " [0]\n",
      " [5]\n",
      " [3]\n",
      " [3]\n",
      " [1]\n",
      " [0]\n",
      " [0]\n",
      " [0]\n",
      " [0]\n",
      " [1]\n",
      " [0]\n",
      " [1]\n",
      " [0]]\n"
     ]
    }
   ],
   "source": [
    "pat = bin_to_pattern(bin_x)\n",
    "# all_pat = all_config(4)\n",
    "all_pat = create_specific_patterns(0,2,4) + create_specific_patterns(0,3,4) + create_specific_patterns(1,3,4) + create_specific_patterns(0,2,4) + create_specific_patterns(0,1,4)\n",
    "print(len(all_pat))\n",
    "\n",
    "y = np.matrix([ overlapp(pat,p) for p in all_pat]).T\n",
    "\n",
    "A = np.matrix([ dev_pattern(p) for p in all_pat])\n",
    "\n",
    "print( (A.T * y))"
   ]
  },
  {
   "cell_type": "code",
   "execution_count": 42,
   "metadata": {},
   "outputs": [
    {
     "name": "stdout",
     "output_type": "stream",
     "text": [
      "IIII 1.25\n",
      "IIZI 0.5\n",
      "IIIZ 0.5\n",
      "IIZZ 0.0\n",
      "ZIII 1.0\n",
      "ZIZI 0.5\n",
      "ZIIZ 0.25\n",
      "ZIZZ 0.0\n",
      "IZII -0.5\n",
      "IZZI 0.0\n",
      "IZIZ -0.25\n",
      "IZZZ 0.0\n",
      "ZZII -0.25\n",
      "ZZZI 0.0\n",
      "ZZIZ 0.0\n",
      "ZZZZ 0.0\n"
     ]
    }
   ],
   "source": [
    "from qiskit.quantum_info.operators.symplectic import SparsePauliOp\n",
    "# I, s1, s2, s3, s4, s1s2, s2s3, s3s4\n",
    "\n",
    "#['IIII', 'IIZI', 'IIIZ', 'IIZZ', 'ZIII', 'ZIZI', 'ZIIZ', 'ZIZZ', 'IZII', 'IZZI', 'IZIZ', 'IZZZ', 'ZZII', 'ZZZI', 'ZZIZ', 'ZZZZ']\n",
    "\n",
    "H_ops = []\n",
    "\n",
    "for p,yi in zip(all_pat,y):\n",
    "\n",
    "    ops = []\n",
    "    for i in range(0,len(p),2):\n",
    "        coefs = decomposition(dev_pattern([p[i],p[i+1]]))\n",
    "        ops.append(SparsePauliOp([\"II\",\"ZI\",\"IZ\",\"ZZ\"],coefs))\n",
    "    op = ops[0]\n",
    "    for i in range(1,len(ops)):\n",
    "        op = op.tensor(ops[i])\n",
    "    H_ops.append(op * yi[0,0])\n",
    "\n",
    "#Recover paulis list\n",
    "i=0\n",
    "while len(H_ops[i].paulis)<=1:\n",
    "    i+=1\n",
    "paulis_idx = H_ops[i].paulis\n",
    "\n",
    "#Recover coeffs of H\n",
    "H = np.real(np.sum([ op.coeffs for op in H_ops ]))\n",
    "\n",
    "for pstring,coef in zip(paulis_idx,H):\n",
    "    print(pstring,coef)\n",
    "\n",
    "# test = SparsePauliOp(paulis_idx,H)\n",
    "# print(np.real(np.diag(test.to_matrix())))"
   ]
  },
  {
   "cell_type": "code",
   "execution_count": 43,
   "metadata": {},
   "outputs": [],
   "source": [
    "import matplotlib.pyplot as plt\n",
    "from qiskit import QuantumCircuit, ClassicalRegister, QuantumRegister\n",
    "from qiskit import Aer, execute\n",
    "from qiskit.circuit import Parameter"
   ]
  },
  {
   "cell_type": "code",
   "execution_count": 44,
   "metadata": {},
   "outputs": [],
   "source": [
    "def paulis_to_gates(pauli_string):\n",
    "    idx = [i for i,s in enumerate(pauli_string) if s=='Z']\n",
    "    # if len(idx)==2 and idx[1] == idx[0]+1:\n",
    "    #     return []\n",
    "    return idx"
   ]
  },
  {
   "cell_type": "code",
   "execution_count": 45,
   "metadata": {},
   "outputs": [
    {
     "name": "stdout",
     "output_type": "stream",
     "text": [
      "[] 1.25\n",
      "[2] 0.5\n",
      "[3] 0.5\n",
      "[0] 1.0\n",
      "[0, 2] 0.5\n",
      "[0, 3] 0.25\n",
      "[1] -0.5\n",
      "[1, 3] -0.25\n",
      "[0, 1] -0.25\n"
     ]
    },
    {
     "data": {
      "text/html": [
       "<pre style=\"word-wrap: normal;white-space: pre;background: #fff0;line-height: 1.1;font-family: &quot;Courier New&quot;,Courier,monospace\">global phase: -1.5*$\\gamma$\n",
       "     ┌─────────┐┌────────────────┐ ┌──────────────────┐     »\n",
       "q_0: ┤ U2(0,π) ├┤ R(2*$\\beta$,0) ├─┤ U1(2.0*$\\gamma$) ├──■──»\n",
       "     ├─────────┤├────────────────┤┌┴──────────────────┤  │  »\n",
       "q_1: ┤ U2(0,π) ├┤ R(2*$\\beta$,0) ├┤ U1(-1.0*$\\gamma$) ├──┼──»\n",
       "     ├─────────┤├────────────────┤└┬──────────────────┤┌─┴─┐»\n",
       "q_2: ┤ U2(0,π) ├┤ R(2*$\\beta$,0) ├─┤ U1(1.0*$\\gamma$) ├┤ X ├»\n",
       "     ├─────────┤├────────────────┤ ├──────────────────┤└───┘»\n",
       "q_3: ┤ U2(0,π) ├┤ R(2*$\\beta$,0) ├─┤ U1(1.0*$\\gamma$) ├─────»\n",
       "     └─────────┘└────────────────┘ └──────────────────┘     »\n",
       "«                                                                 »\n",
       "«q_0: ──────────────────────■────■────────────────────────■───────»\n",
       "«                           │    │                        │       »\n",
       "«q_1: ──────────────────────┼────┼────────────────────────┼────■──»\n",
       "«     ┌──────────────────┐┌─┴─┐  │                        │    │  »\n",
       "«q_2: ┤ Rz(1.0*$\\gamma$) ├┤ X ├──┼────────────────────────┼────┼──»\n",
       "«     └──────────────────┘└───┘┌─┴─┐┌──────────────────┐┌─┴─┐┌─┴─┐»\n",
       "«q_3: ─────────────────────────┤ X ├┤ Rz(0.5*$\\gamma$) ├┤ X ├┤ X ├»\n",
       "«                              └───┘└──────────────────┘└───┘└───┘»\n",
       "«                                                              \n",
       "«q_0: ────────────────────────────■─────────────────────────■──\n",
       "«                               ┌─┴─┐┌───────────────────┐┌─┴─┐\n",
       "«q_1: ───────────────────────■──┤ X ├┤ Rz(-0.5*$\\gamma$) ├┤ X ├\n",
       "«                            │  └───┘└───────────────────┘└───┘\n",
       "«q_2: ───────────────────────┼─────────────────────────────────\n",
       "«     ┌───────────────────┐┌─┴─┐                               \n",
       "«q_3: ┤ Rz(-0.5*$\\gamma$) ├┤ X ├───────────────────────────────\n",
       "«     └───────────────────┘└───┘                               </pre>"
      ],
      "text/plain": [
       "global phase: -1.5*$\\gamma$\n",
       "     ┌─────────┐┌────────────────┐ ┌──────────────────┐     »\n",
       "q_0: ┤ U2(0,π) ├┤ R(2*$\\beta$,0) ├─┤ U1(2.0*$\\gamma$) ├──■──»\n",
       "     ├─────────┤├────────────────┤┌┴──────────────────┤  │  »\n",
       "q_1: ┤ U2(0,π) ├┤ R(2*$\\beta$,0) ├┤ U1(-1.0*$\\gamma$) ├──┼──»\n",
       "     ├─────────┤├────────────────┤└┬──────────────────┤┌─┴─┐»\n",
       "q_2: ┤ U2(0,π) ├┤ R(2*$\\beta$,0) ├─┤ U1(1.0*$\\gamma$) ├┤ X ├»\n",
       "     ├─────────┤├────────────────┤ ├──────────────────┤└───┘»\n",
       "q_3: ┤ U2(0,π) ├┤ R(2*$\\beta$,0) ├─┤ U1(1.0*$\\gamma$) ├─────»\n",
       "     └─────────┘└────────────────┘ └──────────────────┘     »\n",
       "«                                                                 »\n",
       "«q_0: ──────────────────────■────■────────────────────────■───────»\n",
       "«                           │    │                        │       »\n",
       "«q_1: ──────────────────────┼────┼────────────────────────┼────■──»\n",
       "«     ┌──────────────────┐┌─┴─┐  │                        │    │  »\n",
       "«q_2: ┤ Rz(1.0*$\\gamma$) ├┤ X ├──┼────────────────────────┼────┼──»\n",
       "«     └──────────────────┘└───┘┌─┴─┐┌──────────────────┐┌─┴─┐┌─┴─┐»\n",
       "«q_3: ─────────────────────────┤ X ├┤ Rz(0.5*$\\gamma$) ├┤ X ├┤ X ├»\n",
       "«                              └───┘└──────────────────┘└───┘└───┘»\n",
       "«                                                              \n",
       "«q_0: ────────────────────────────■─────────────────────────■──\n",
       "«                               ┌─┴─┐┌───────────────────┐┌─┴─┐\n",
       "«q_1: ───────────────────────■──┤ X ├┤ Rz(-0.5*$\\gamma$) ├┤ X ├\n",
       "«                            │  └───┘└───────────────────┘└───┘\n",
       "«q_2: ───────────────────────┼─────────────────────────────────\n",
       "«     ┌───────────────────┐┌─┴─┐                               \n",
       "«q_3: ┤ Rz(-0.5*$\\gamma$) ├┤ X ├───────────────────────────────\n",
       "«     └───────────────────┘└───┘                               "
      ]
     },
     "execution_count": 45,
     "metadata": {},
     "output_type": "execute_result"
    }
   ],
   "source": [
    "nqubits = N\n",
    "\n",
    "qc_0 = QuantumCircuit(nqubits)\n",
    "for i in range(0, nqubits):\n",
    "    qc_0.h(i)\n",
    "\n",
    "beta = Parameter(\"$\\\\beta$\")\n",
    "qc_mix = QuantumCircuit(nqubits)\n",
    "for i in range(0, nqubits):\n",
    "    qc_mix.rx(2 * beta, i)\n",
    "\n",
    "gamma = Parameter(\"$\\\\gamma$\")\n",
    "qc_p = QuantumCircuit(nqubits)\n",
    "for pstring,coef in zip(paulis_idx,H):\n",
    "    if coef!=0:\n",
    "        idx = paulis_to_gates(str(pstring))\n",
    "        print(idx,coef)\n",
    "        if len(idx)==1:\n",
    "            qc_p.rz(2*gamma*coef,idx[0])\n",
    "        if len(idx)==2:\n",
    "            qc_p.rzz(2*gamma*coef,idx[0],idx[1])\n",
    "    \n",
    "qc_qaoa = QuantumCircuit(nqubits)\n",
    "\n",
    "qc_qaoa.append(qc_0, [i for i in range(0, nqubits)])\n",
    "qc_qaoa.append(qc_mix, [i for i in range(0, nqubits)])\n",
    "qc_qaoa.append(qc_p, [i for i in range(0, nqubits)])\n",
    "\n",
    "qc_qaoa.decompose().decompose().draw()"
   ]
  },
  {
   "cell_type": "code",
   "execution_count": 46,
   "metadata": {},
   "outputs": [],
   "source": [
    "from bitstring import BitArray\n",
    "\n",
    "def obj_func(z):\n",
    "    v = BitArray(bin='0'+z).int\n",
    "    return (A.T[v] * y)[0,0]\n",
    "\n",
    "\n",
    "def compute_expectation(counts):\n",
    "        \n",
    "    avg = 0\n",
    "    sum_count = 0\n",
    "    for bitstring, count in counts.items():\n",
    "        obj = -obj_func(bitstring)\n",
    "        avg += obj * count\n",
    "        sum_count += count\n",
    "        \n",
    "    return avg/sum_count\n",
    "\n",
    "def create_qaoa_circ(theta):\n",
    "\n",
    "    nqubits = N\n",
    "    p = len(theta)//2  # number of alternating unitaries\n",
    "    qc = QuantumCircuit(nqubits)\n",
    "    \n",
    "    beta = theta[:p]\n",
    "    gamma = theta[p:]\n",
    "    \n",
    "    # initial_state\n",
    "    for i in range(0, nqubits):\n",
    "        qc.h(i)\n",
    "    \n",
    "    for irep in range(0, p):\n",
    "        \n",
    "        for i in range(0, nqubits):\n",
    "            qc.rx(2 * beta[irep], i)\n",
    "\n",
    "        for pstring,coef in zip(paulis_idx,H):\n",
    "            if coef!=0:\n",
    "                idx = paulis_to_gates(str(pstring))\n",
    "                if len(idx)==1:\n",
    "                    qc.rz(2*gamma[irep]*coef,idx[0])\n",
    "                if len(idx)==2:\n",
    "                    qc.rzz(2*gamma[irep]*coef,idx[0],idx[1])\n",
    "\n",
    "    qc.measure_all()\n",
    "        \n",
    "    return qc\n",
    "\n",
    "# Finally we write a function that executes the circuit on the chosen backend\n",
    "def get_expectation(shots=512):\n",
    "    \n",
    "    backend = Aer.get_backend('qasm_simulator')\n",
    "    backend.shots = shots\n",
    "    \n",
    "    def execute_circ(theta):\n",
    "        \n",
    "        qc = create_qaoa_circ(theta)\n",
    "        counts = backend.run(qc, seed_simulator=10, \n",
    "                             nshots=512).result().get_counts()\n",
    "        \n",
    "        return compute_expectation(counts)\n",
    "    \n",
    "    return execute_circ"
   ]
  },
  {
   "cell_type": "code",
   "execution_count": 54,
   "metadata": {},
   "outputs": [
    {
     "data": {
      "text/plain": [
       "     fun: -2.8740234375\n",
       "   maxcv: 0.0\n",
       " message: 'Maximum number of function evaluations has been exceeded.'\n",
       "    nfev: 1000\n",
       "  status: 2\n",
       " success: False\n",
       "       x: array([0.99925213, 2.01704446, 2.05146133, 1.01842274, 1.00886631,\n",
       "       1.00022981, 1.00079908, 0.99864114, 1.00235985, 0.99842425,\n",
       "       1.00107671, 1.02346502, 0.99759795, 0.99979975, 1.00029502,\n",
       "       1.00338845, 1.00139049, 1.00123657, 0.99851644, 0.99946371,\n",
       "       1.00162528, 1.00288124, 1.00029119, 0.96767289, 0.98092588,\n",
       "       1.00921463, 1.00934247, 1.01506569, 0.99406835, 1.02443548,\n",
       "       2.00091945, 0.97113097, 1.00179658, 1.00041257, 0.93591823,\n",
       "       0.96097592, 1.00257045, 1.00476147, 1.00525614, 1.00570057,\n",
       "       1.00442157, 1.00333681, 1.00109831, 1.00061836, 1.0022463 ,\n",
       "       1.00245264, 1.00553358, 1.00360435, 1.00566342, 1.00365103,\n",
       "       1.00445548, 1.00167715, 1.00530653, 1.00358495, 1.00215004,\n",
       "       1.00468724, 1.00085554, 1.0033649 , 1.00580068, 1.00393606,\n",
       "       1.00125805, 1.00395184, 1.00101458, 1.00305126, 0.99455853,\n",
       "       1.02489573, 1.0042363 , 1.00511484, 1.00296215, 1.0029971 ,\n",
       "       1.00581141, 1.00242643, 1.00167482, 1.00271653, 1.00323767,\n",
       "       1.00310806, 1.00518811, 1.00381334, 1.00054421, 1.00286731,\n",
       "       1.00574535, 1.00350028, 0.97880202, 1.02774478, 1.00108825,\n",
       "       1.00324588, 1.00375113, 1.01050815, 1.0016785 , 0.99860397,\n",
       "       0.99914881, 2.00133406, 1.02052299, 0.75505639, 1.01144307,\n",
       "       0.99493537, 0.99568195, 1.01959475, 1.01030344, 0.82858809,\n",
       "       1.00936533, 0.82456438, 1.0254742 , 0.99341529, 1.00967474,\n",
       "       1.00546937, 1.02034596, 0.92844852, 1.0051694 , 1.00021672,\n",
       "       1.00565707, 1.17853186, 0.82207706, 1.00956014, 1.00772015,\n",
       "       1.00345584, 1.00287423, 1.00578064, 0.83564637, 0.99727785,\n",
       "       1.0033335 , 1.0020849 , 0.99444449, 1.00718131, 1.00140043,\n",
       "       1.01088039, 1.00511234, 1.29383879, 1.01946329, 1.02230116,\n",
       "       1.01928897, 0.99460957, 1.1740645 , 0.99476056, 0.99990034,\n",
       "       1.0119261 , 1.1673678 , 0.99755663, 1.00375466, 1.00818407,\n",
       "       0.99725441, 0.60069873, 0.83326597, 1.0052979 , 1.01460794,\n",
       "       1.0184581 , 1.18090966, 1.02176983, 1.08507302, 0.99652567,\n",
       "       1.00810465, 1.01216843, 1.01252115, 1.00294889, 1.17846284,\n",
       "       2.0082547 , 0.99682822, 0.80834763, 1.01335423, 1.1573816 ,\n",
       "       1.01343263, 0.99861416, 2.01303104, 1.01289209, 1.00430487,\n",
       "       1.00448302, 0.99147734, 0.79623457, 1.00465325, 1.00346734,\n",
       "       1.00525328, 0.99672351, 1.01294001, 0.99167259, 1.00336019,\n",
       "       0.99433436, 1.16343382, 0.99708812, 0.99408814, 1.01267892,\n",
       "       0.99665638, 0.99117937, 1.01343737, 1.00381225, 1.00409335,\n",
       "       1.0124252 , 0.99753323, 0.99026444, 1.17024445, 1.00440914,\n",
       "       0.99038734, 0.98983761, 1.16267095, 0.99638627, 1.01147729,\n",
       "       1.0041646 , 1.17375365, 0.81631555, 1.00427618, 1.00411862,\n",
       "       0.99094473, 0.9905185 , 1.0041314 , 1.00985945, 0.99560961,\n",
       "       1.00477206, 0.98969117, 0.9937729 , 1.01293096, 1.0107762 ,\n",
       "       1.01053334, 0.80721579, 0.99655436, 1.00546691, 0.99630682,\n",
       "       1.01210588, 0.9906871 , 0.83826238, 2.00499865, 0.9987996 ,\n",
       "       0.99974065, 0.99787678, 0.99764309, 0.99855833, 0.97760373,\n",
       "       0.99980935, 0.99883038, 1.02850922, 0.99728074, 1.04134796,\n",
       "       0.99787518, 0.9984637 , 0.99875559, 0.99935071, 0.9990326 ,\n",
       "       0.99758701, 1.0001321 , 0.99836684, 1.00088437, 0.9978595 ,\n",
       "       0.99757293, 0.99774875, 0.99872199, 1.00023232, 0.99878976,\n",
       "       0.99990144, 0.99883222, 0.99792623, 0.9552614 , 1.04019697,\n",
       "       0.99856625, 0.99884115, 1.034194  , 0.9978149 , 0.96895198,\n",
       "       0.99926482, 0.99984869, 0.99891908, 0.99965726, 0.99794425,\n",
       "       0.99955777, 0.99887663, 1.00037387, 0.99909688, 0.99879831,\n",
       "       0.99768377, 0.99912444, 1.00009079, 0.99944312, 0.99825519,\n",
       "       0.99737425, 1.00055884, 0.99913793, 0.99786546, 0.99920781,\n",
       "       0.99961483, 0.99874688, 0.96231845, 0.99907339, 0.99923548,\n",
       "       0.99803699, 0.99814847, 0.99894452, 0.99930247, 0.99911614,\n",
       "       0.99846691, 0.99878505, 1.00000775, 0.99991315, 0.99810529,\n",
       "       0.99891585, 0.99903007, 0.99810949, 0.99870241, 1.00052552,\n",
       "       1.02663272, 0.99878624, 0.99883426, 0.99979156, 0.99925213])"
      ]
     },
     "execution_count": 54,
     "metadata": {},
     "output_type": "execute_result"
    }
   ],
   "source": [
    "from scipy.optimize import minimize\n",
    "\n",
    "\n",
    "expectation = get_expectation()\n",
    "\n",
    "res = minimize(expectation, \n",
    "                      np.ones(300), \n",
    "                      method='COBYLA')\n",
    "res"
   ]
  },
  {
   "cell_type": "code",
   "execution_count": 55,
   "metadata": {},
   "outputs": [
    {
     "data": {
      "image/png": "[encoded data removed]",
      "text/plain": [
       "<Figure size 504x360 with 1 Axes>"
      ]
     },
     "execution_count": 55,
     "metadata": {},
     "output_type": "execute_result"
    }
   ],
   "source": [
    "from qiskit.visualization import plot_histogram\n",
    "\n",
    "backend = Aer.get_backend('aer_simulator')\n",
    "backend.shots = 512\n",
    "\n",
    "qc_res = create_qaoa_circ(res.x)\n",
    "\n",
    "counts = backend.run(qc_res, seed_simulator=10).result().get_counts()\n",
    "\n",
    "plot_histogram(counts)"
   ]
  }
 ],
 "metadata": {
  "kernelspec": {
   "display_name": "Python 3",
   "language": "python",
   "name": "python3"
  },
  "language_info": {
   "codemirror_mode": {
    "name": "ipython",
    "version": 3
   },
   "file_extension": ".py",
   "mimetype": "text/x-python",
   "name": "python",
   "nbconvert_exporter": "python",
   "pygments_lexer": "ipython3",
   "version": "3.10.6"
  },
  "orig_nbformat": 4,
  "vscode": {
   "interpreter": {
    "hash": "916dbcbb3f70747c44a77c7bcd40155683ae19c65e1c03b4aa3499c5328201f1"
   }
  }
 },
 "nbformat": 4,
 "nbformat_minor": 2
}
