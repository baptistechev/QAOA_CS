{
 "cells": [
  {
   "cell_type": "code",
   "execution_count": 1,
   "metadata": {},
   "outputs": [],
   "source": [
    "import numpy as np\n",
    "a = 3\n",
    "N = 4\n",
    "\n",
    "# x 0 1 2 3 4 5 6 7 8\n",
    "#\n",
    "#   0 0 0 1 1 1 2 2 2\n",
    "#   0 1 2 0 1 2 0 1 2\n",
    "#                 |\n",
    "#                 |\n",
    "\n",
    "\n",
    "x = 7\n",
    "bin_x = '0111'"
   ]
  },
  {
   "cell_type": "code",
   "execution_count": 2,
   "metadata": {},
   "outputs": [],
   "source": [
    "def bin_to_pattern(x):\n",
    "    return [ [1-int(i), int(i)] for i in x ]"
   ]
  },
  {
   "cell_type": "code",
   "execution_count": 3,
   "metadata": {},
   "outputs": [],
   "source": [
    "def all_config(size):\n",
    "    all_pat = []\n",
    "    for i in range(size-1):\n",
    "        for v1 in range(2):\n",
    "            for v2 in range(2):\n",
    "                all_pat.append( [i] + bin_to_pattern(str(v1)+str(v2)) + [size-i-2])\n",
    "    return all_pat"
   ]
  },
  {
   "cell_type": "code",
   "execution_count": 4,
   "metadata": {},
   "outputs": [],
   "source": [
    "def overlapp(x,measurement):\n",
    "    i = measurement[0]\n",
    "    return int(measurement[1]==x[i] and measurement[2]==x[i+1])"
   ]
  },
  {
   "cell_type": "code",
   "execution_count": 5,
   "metadata": {},
   "outputs": [],
   "source": [
    "def short_to_full(measurement):\n",
    "    return [[1,1]]*measurement[0] + [measurement[1]] + [measurement[2]] + [[1,1]]*measurement[3]"
   ]
  },
  {
   "cell_type": "code",
   "execution_count": 6,
   "metadata": {},
   "outputs": [],
   "source": [
    "def dev_pattern(pat):\n",
    "    f = np.array([1])\n",
    "    for i in pat:\n",
    "        f = np.kron(f,i)\n",
    "    return f"
   ]
  },
  {
   "cell_type": "code",
   "execution_count": 7,
   "metadata": {},
   "outputs": [],
   "source": [
    "def decomposition(mat):\n",
    "    a,b,c,d = mat[0],mat[1],mat[2],mat[3]\n",
    "    return 1/4 * np.array( [a+b+c+d, a+b-c-d, a-b+c-d, a-b-c+d] )"
   ]
  },
  {
   "cell_type": "code",
   "execution_count": 8,
   "metadata": {},
   "outputs": [
    {
     "name": "stdout",
     "output_type": "stream",
     "text": [
      "[[0]\n",
      " [0]\n",
      " [0]\n",
      " [1]\n",
      " [1]\n",
      " [1]\n",
      " [2]\n",
      " [3]\n",
      " [0]\n",
      " [0]\n",
      " [0]\n",
      " [1]\n",
      " [0]\n",
      " [0]\n",
      " [1]\n",
      " [2]]\n"
     ]
    }
   ],
   "source": [
    "pat = bin_to_pattern(bin_x)\n",
    "all_pat = all_config(4)\n",
    "\n",
    "y = np.matrix([ overlapp(pat,p) for p in all_pat]).T\n",
    "\n",
    "A = np.matrix([ dev_pattern(short_to_full(p)) for p in all_pat])\n",
    "\n",
    "print(A.T*y)"
   ]
  },
  {
   "cell_type": "code",
   "execution_count": 18,
   "metadata": {},
   "outputs": [
    {
     "name": "stdout",
     "output_type": "stream",
     "text": [
      "[0. 0. 0. 0.]\n",
      "0\n",
      "[ 0.25  0.25 -0.25 -0.25]\n",
      "1\n",
      "[ 0. -0.  0. -0.]\n",
      "0\n",
      "[ 0. -0. -0.  0.]\n",
      "0\n",
      "[0. 0. 0. 0.]\n",
      "0\n",
      "[ 0.  0. -0. -0.]\n",
      "0\n",
      "[ 0. -0.  0. -0.]\n",
      "0\n",
      "[ 0.25 -0.25 -0.25  0.25]\n",
      "1\n",
      "[0. 0. 0. 0.]\n",
      "0\n",
      "[ 0.  0. -0. -0.]\n",
      "0\n",
      "[ 0. -0.  0. -0.]\n",
      "0\n",
      "[ 0.25 -0.25 -0.25  0.25]\n",
      "1\n",
      "[0.75, 0.25, -0.5, -0.5, -0.25, -0.25, 0.25, 0.25]\n"
     ]
    }
   ],
   "source": [
    "# I, s1, s2, s3, s4, s1s2, s2s3, s3s4\n",
    "\n",
    "H = [0]*8\n",
    "\n",
    "for p,yi in zip(all_pat,y):\n",
    "    if p[0] == 0:\n",
    "        # I, s1, s2, s1s2\n",
    "        coef = decomposition(dev_pattern([p[1],p[2]]))*yi[0,0]\n",
    "        H[0:3]+=coef[0:3]\n",
    "        H[5]+= coef[3]\n",
    "    elif p[0] == 1:\n",
    "        # I, s2, s3, s2s3\n",
    "        coef = decomposition(dev_pattern([p[1],p[2]]))*yi[0,0]\n",
    "        H[0]+=coef[0]\n",
    "        H[2:4]+= coef[1:3]\n",
    "        H[6]+= coef[3]\n",
    "    else:\n",
    "        # I, s3, s4, s3s4\n",
    "        coef = decomposition(dev_pattern([p[1],p[2]]))*yi[0,0]\n",
    "        H[0]+=coef[0]\n",
    "        H[3:5]+=coef[1:3]\n",
    "        H[7]+= coef[3]\n",
    "    print(coef)\n",
    "    print(yi[0,0])\n",
    "print(H)"
   ]
  },
  {
   "cell_type": "code",
   "execution_count": 90,
   "metadata": {},
   "outputs": [],
   "source": [
    "import matplotlib.pyplot as plt\n",
    "from qiskit import QuantumCircuit, ClassicalRegister, QuantumRegister\n",
    "from qiskit import Aer, execute\n",
    "from qiskit.circuit import Parameter"
   ]
  },
  {
   "cell_type": "code",
   "execution_count": 91,
   "metadata": {},
   "outputs": [
    {
     "data": {
      "text/html": [
       "<pre style=\"word-wrap: normal;white-space: pre;background: #fff0;line-height: 1.1;font-family: &quot;Courier New&quot;,Courier,monospace\">global phase: 1.0*$\\gamma$\n",
       "     ┌─────────┐┌────────────────┐ ┌──────────────────┐     »\n",
       "q_0: ┤ U2(0,π) ├┤ R(2*$\\beta$,0) ├─┤ U1(0.5*$\\gamma$) ├──■──»\n",
       "     ├─────────┤├────────────────┤┌┴──────────────────┤┌─┴─┐»\n",
       "q_1: ┤ U2(0,π) ├┤ R(2*$\\beta$,0) ├┤ U1(-1.0*$\\gamma$) ├┤ X ├»\n",
       "     ├─────────┤├────────────────┤├───────────────────┤└───┘»\n",
       "q_2: ┤ U2(0,π) ├┤ R(2*$\\beta$,0) ├┤ U1(-1.0*$\\gamma$) ├─────»\n",
       "     ├─────────┤├────────────────┤├───────────────────┤     »\n",
       "q_3: ┤ U2(0,π) ├┤ R(2*$\\beta$,0) ├┤ U1(-0.5*$\\gamma$) ├─────»\n",
       "     └─────────┘└────────────────┘└───────────────────┘     »\n",
       "«                                                                  »\n",
       "«q_0: ───────────────────────■─────────────────────────────────────»\n",
       "«     ┌───────────────────┐┌─┴─┐                                   »\n",
       "«q_1: ┤ Rz(-0.5*$\\gamma$) ├┤ X ├──■────────────────────────■───────»\n",
       "«     └───────────────────┘└───┘┌─┴─┐┌──────────────────┐┌─┴─┐     »\n",
       "«q_2: ──────────────────────────┤ X ├┤ Rz(0.5*$\\gamma$) ├┤ X ├──■──»\n",
       "«                               └───┘└──────────────────┘└───┘┌─┴─┐»\n",
       "«q_3: ────────────────────────────────────────────────────────┤ X ├»\n",
       "«                                                             └───┘»\n",
       "«                              \n",
       "«q_0: ─────────────────────────\n",
       "«                              \n",
       "«q_1: ─────────────────────────\n",
       "«                              \n",
       "«q_2: ──────────────────────■──\n",
       "«     ┌──────────────────┐┌─┴─┐\n",
       "«q_3: ┤ Rz(0.5*$\\gamma$) ├┤ X ├\n",
       "«     └──────────────────┘└───┘</pre>"
      ],
      "text/plain": [
       "global phase: 1.0*$\\gamma$\n",
       "     ┌─────────┐┌────────────────┐ ┌──────────────────┐     »\n",
       "q_0: ┤ U2(0,π) ├┤ R(2*$\\beta$,0) ├─┤ U1(0.5*$\\gamma$) ├──■──»\n",
       "     ├─────────┤├────────────────┤┌┴──────────────────┤┌─┴─┐»\n",
       "q_1: ┤ U2(0,π) ├┤ R(2*$\\beta$,0) ├┤ U1(-1.0*$\\gamma$) ├┤ X ├»\n",
       "     ├─────────┤├────────────────┤├───────────────────┤└───┘»\n",
       "q_2: ┤ U2(0,π) ├┤ R(2*$\\beta$,0) ├┤ U1(-1.0*$\\gamma$) ├─────»\n",
       "     ├─────────┤├────────────────┤├───────────────────┤     »\n",
       "q_3: ┤ U2(0,π) ├┤ R(2*$\\beta$,0) ├┤ U1(-0.5*$\\gamma$) ├─────»\n",
       "     └─────────┘└────────────────┘└───────────────────┘     »\n",
       "«                                                                  »\n",
       "«q_0: ───────────────────────■─────────────────────────────────────»\n",
       "«     ┌───────────────────┐┌─┴─┐                                   »\n",
       "«q_1: ┤ Rz(-0.5*$\\gamma$) ├┤ X ├──■────────────────────────■───────»\n",
       "«     └───────────────────┘└───┘┌─┴─┐┌──────────────────┐┌─┴─┐     »\n",
       "«q_2: ──────────────────────────┤ X ├┤ Rz(0.5*$\\gamma$) ├┤ X ├──■──»\n",
       "«                               └───┘└──────────────────┘└───┘┌─┴─┐»\n",
       "«q_3: ────────────────────────────────────────────────────────┤ X ├»\n",
       "«                                                             └───┘»\n",
       "«                              \n",
       "«q_0: ─────────────────────────\n",
       "«                              \n",
       "«q_1: ─────────────────────────\n",
       "«                              \n",
       "«q_2: ──────────────────────■──\n",
       "«     ┌──────────────────┐┌─┴─┐\n",
       "«q_3: ┤ Rz(0.5*$\\gamma$) ├┤ X ├\n",
       "«     └──────────────────┘└───┘"
      ]
     },
     "execution_count": 91,
     "metadata": {},
     "output_type": "execute_result"
    }
   ],
   "source": [
    "nqubits = 4\n",
    "\n",
    "qc_0 = QuantumCircuit(nqubits)\n",
    "for i in range(0, nqubits):\n",
    "    qc_0.h(i)\n",
    "\n",
    "beta = Parameter(\"$\\\\beta$\")\n",
    "qc_mix = QuantumCircuit(nqubits)\n",
    "for i in range(0, nqubits):\n",
    "    qc_mix.rx(2 * beta, i)\n",
    "\n",
    "gamma = Parameter(\"$\\\\gamma$\")\n",
    "qc_p = QuantumCircuit(nqubits)\n",
    "qc_p.rz(2*gamma*H[1],0)\n",
    "qc_p.rz(2*gamma*H[2],1)\n",
    "qc_p.rz(2*gamma*H[3],2)\n",
    "qc_p.rz(2*gamma*H[4],3)\n",
    "qc_p.rzz(2*gamma*H[5],0,1)\n",
    "qc_p.rzz(2*gamma*H[6],1,2)\n",
    "qc_p.rzz(2*gamma*H[7],2,3) \n",
    "    \n",
    "qc_qaoa = QuantumCircuit(nqubits)\n",
    "\n",
    "qc_qaoa.append(qc_0, [i for i in range(0, nqubits)])\n",
    "qc_qaoa.append(qc_mix, [i for i in range(0, nqubits)])\n",
    "qc_qaoa.append(qc_p, [i for i in range(0, nqubits)])\n",
    "\n",
    "qc_qaoa.decompose().decompose().draw()"
   ]
  },
  {
   "cell_type": "code",
   "execution_count": 92,
   "metadata": {},
   "outputs": [],
   "source": [
    "from bitstring import BitArray\n",
    "\n",
    "def obj_func(z):\n",
    "    v = BitArray(bin='0'+z).int\n",
    "    return (A.T[v] * y)[0,0]\n",
    "\n",
    "\n",
    "def compute_expectation(counts):\n",
    "        \n",
    "    avg = 0\n",
    "    sum_count = 0\n",
    "    for bitstring, count in counts.items():\n",
    "        obj = -obj_func(bitstring)\n",
    "        avg += obj * count\n",
    "        sum_count += count\n",
    "        \n",
    "    return avg/sum_count\n",
    "\n",
    "def create_qaoa_circ(theta):\n",
    "\n",
    "    nqubits = 4\n",
    "    p = len(theta)//2  # number of alternating unitaries\n",
    "    qc = QuantumCircuit(nqubits)\n",
    "    \n",
    "    beta = theta[:p]\n",
    "    gamma = theta[p:]\n",
    "    \n",
    "    # initial_state\n",
    "    for i in range(0, nqubits):\n",
    "        qc.h(i)\n",
    "    \n",
    "    for irep in range(0, p):\n",
    "        \n",
    "        for i in range(0, nqubits):\n",
    "            qc.rx(2 * beta[irep], i)\n",
    "\n",
    "        qc.rz(2*gamma[irep]*H[1],0)\n",
    "        qc.rz(2*gamma[irep]*H[2],1)\n",
    "        qc.rz(2*gamma[irep]*H[3],2)\n",
    "        qc.rz(2*gamma[irep]*H[4],3)\n",
    "        qc.rzz(2*gamma[irep]*H[5],0,1)\n",
    "        qc.rzz(2*gamma[irep]*H[6],1,2)\n",
    "        qc.rzz(2*gamma[irep]*H[7],2,3) \n",
    "\n",
    "    qc.measure_all()\n",
    "        \n",
    "    return qc\n",
    "\n",
    "# Finally we write a function that executes the circuit on the chosen backend\n",
    "def get_expectation(shots=512):\n",
    "    \n",
    "    backend = Aer.get_backend('qasm_simulator')\n",
    "    backend.shots = shots\n",
    "    \n",
    "    def execute_circ(theta):\n",
    "        \n",
    "        qc = create_qaoa_circ(theta)\n",
    "        counts = backend.run(qc, seed_simulator=10, \n",
    "                             nshots=512).result().get_counts()\n",
    "        \n",
    "        return compute_expectation(counts)\n",
    "    \n",
    "    return execute_circ"
   ]
  },
  {
   "cell_type": "code",
   "execution_count": 95,
   "metadata": {},
   "outputs": [
    {
     "data": {
      "text/plain": [
       "     fun: -2.5400390625\n",
       "   maxcv: 0.0\n",
       " message: 'Optimization terminated successfully.'\n",
       "    nfev: 108\n",
       "  status: 1\n",
       " success: True\n",
       "       x: array([0.93081486, 0.92297288, 0.76273696, 0.55723079, 0.95751686,\n",
       "       0.76198897, 2.1931466 , 1.24733079, 1.38256256, 0.89332536])"
      ]
     },
     "execution_count": 95,
     "metadata": {},
     "output_type": "execute_result"
    }
   ],
   "source": [
    "from scipy.optimize import minimize\n",
    "\n",
    "\n",
    "expectation = get_expectation()\n",
    "\n",
    "res = minimize(expectation, \n",
    "                      np.ones(10), \n",
    "                      method='COBYLA')\n",
    "res"
   ]
  },
  {
   "cell_type": "code",
   "execution_count": 96,
   "metadata": {},
   "outputs": [
    {
     "data": {
      "image/png": "[encoded data removed]",
      "text/plain": [
       "<Figure size 504x360 with 1 Axes>"
      ]
     },
     "execution_count": 96,
     "metadata": {},
     "output_type": "execute_result"
    }
   ],
   "source": [
    "from qiskit.visualization import plot_histogram\n",
    "\n",
    "backend = Aer.get_backend('aer_simulator')\n",
    "backend.shots = 512\n",
    "\n",
    "qc_res = create_qaoa_circ(res.x)\n",
    "\n",
    "counts = backend.run(qc_res, seed_simulator=10).result().get_counts()\n",
    "\n",
    "plot_histogram(counts)"
   ]
  }
 ],
 "metadata": {
  "kernelspec": {
   "display_name": "Python 3",
   "language": "python",
   "name": "python3"
  },
  "language_info": {
   "codemirror_mode": {
    "name": "ipython",
    "version": 3
   },
   "file_extension": ".py",
   "mimetype": "text/x-python",
   "name": "python",
   "nbconvert_exporter": "python",
   "pygments_lexer": "ipython3",
   "version": "3.10.6"
  },
  "orig_nbformat": 4,
  "vscode": {
   "interpreter": {
    "hash": "916dbcbb3f70747c44a77c7bcd40155683ae19c65e1c03b4aa3499c5328201f1"
   }
  }
 },
 "nbformat": 4,
 "nbformat_minor": 2
}
